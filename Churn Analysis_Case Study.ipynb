{
 "cells": [
  {
   "cell_type": "markdown",
   "id": "4f25c0fa",
   "metadata": {},
   "source": [
    "**Import all necessary libraries**"
   ]
  },
  {
   "cell_type": "code",
   "execution_count": 1,
   "id": "26456f69",
   "metadata": {},
   "outputs": [],
   "source": [
    "import pandas as pd\n",
    "import numpy as np\n",
    "import matplotlib.pyplot as plt\n",
    "import seaborn as sns"
   ]
  },
  {
   "cell_type": "code",
   "execution_count": 2,
   "id": "ac6f2d37",
   "metadata": {},
   "outputs": [],
   "source": [
    "from sklearn.preprocessing import LabelEncoder\n",
    "from sklearn.preprocessing import MinMaxScaler, StandardScaler\n",
    "from sklearn.model_selection import train_test_split\n",
    "from sklearn.linear_model import LogisticRegression\n",
    "from sklearn.ensemble import RandomForestClassifier\n",
    "from xgboost import XGBClassifier\n",
    "from sklearn.svm import SVC\n",
    "from sklearn.tree import DecisionTreeClassifier"
   ]
  },
  {
   "cell_type": "code",
   "execution_count": 3,
   "id": "13bf8ca0",
   "metadata": {},
   "outputs": [],
   "source": [
    "import warnings\n",
    "warnings.filterwarnings('ignore')"
   ]
  },
  {
   "cell_type": "markdown",
   "id": "8fbb0618",
   "metadata": {},
   "source": [
    "**Load Train data and Production data**"
   ]
  },
  {
   "cell_type": "code",
   "execution_count": 4,
   "id": "e2524450",
   "metadata": {},
   "outputs": [],
   "source": [
    "df_train = pd.read_csv(r\"C:\\Users\\M1078280\\OneDrive - Mindtree Limited\\Desktop\\Mindtree_Data_Science_Case_Study\\Mindtree_Data_Science_Case_Study\\churn_training_data.csv\")\n",
    "df_production = pd.read_csv(r\"C:\\Users\\M1078280\\OneDrive - Mindtree Limited\\Desktop\\Mindtree_Data_Science_Case_Study\\Mindtree_Data_Science_Case_Study\\churn_production_data.csv\")"
   ]
  },
  {
   "cell_type": "markdown",
   "id": "ca267fb1",
   "metadata": {},
   "source": [
    "**View and Analyze the data to perform required Preprocessing steps**"
   ]
  },
  {
   "cell_type": "code",
   "execution_count": 5,
   "id": "cdbbbd9f",
   "metadata": {},
   "outputs": [
    {
     "data": {
      "text/plain": [
       "0"
      ]
     },
     "execution_count": 5,
     "metadata": {},
     "output_type": "execute_result"
    }
   ],
   "source": [
    "# Detecting duplicates\n",
    "df_train.duplicated().sum()"
   ]
  },
  {
   "cell_type": "code",
   "execution_count": 6,
   "id": "e5c37258",
   "metadata": {},
   "outputs": [
    {
     "data": {
      "text/plain": [
       "(6499, 21)"
      ]
     },
     "execution_count": 6,
     "metadata": {},
     "output_type": "execute_result"
    }
   ],
   "source": [
    "df_train.shape"
   ]
  },
  {
   "cell_type": "code",
   "execution_count": 7,
   "id": "96d57c00",
   "metadata": {},
   "outputs": [
    {
     "data": {
      "text/html": [
       "<div>\n",
       "<style scoped>\n",
       "    .dataframe tbody tr th:only-of-type {\n",
       "        vertical-align: middle;\n",
       "    }\n",
       "\n",
       "    .dataframe tbody tr th {\n",
       "        vertical-align: top;\n",
       "    }\n",
       "\n",
       "    .dataframe thead th {\n",
       "        text-align: right;\n",
       "    }\n",
       "</style>\n",
       "<table border=\"1\" class=\"dataframe\">\n",
       "  <thead>\n",
       "    <tr style=\"text-align: right;\">\n",
       "      <th></th>\n",
       "      <th>CustomerID</th>\n",
       "      <th>Gender</th>\n",
       "      <th>Senior Citizen</th>\n",
       "      <th>Partner</th>\n",
       "      <th>Dependents</th>\n",
       "      <th>Tenure</th>\n",
       "      <th>Phone Service</th>\n",
       "      <th>Multiple Lines</th>\n",
       "      <th>Internet Service</th>\n",
       "      <th>Online Security</th>\n",
       "      <th>...</th>\n",
       "      <th>Device Protection</th>\n",
       "      <th>Tech Support</th>\n",
       "      <th>Streaming TV</th>\n",
       "      <th>Streaming Movies</th>\n",
       "      <th>Contract</th>\n",
       "      <th>Paperless Billing</th>\n",
       "      <th>Payment Method</th>\n",
       "      <th>Monthly Charges</th>\n",
       "      <th>Total Charges</th>\n",
       "      <th>Churn</th>\n",
       "    </tr>\n",
       "  </thead>\n",
       "  <tbody>\n",
       "    <tr>\n",
       "      <th>0</th>\n",
       "      <td>7590-VHVEG</td>\n",
       "      <td>Female</td>\n",
       "      <td>0</td>\n",
       "      <td>Yes</td>\n",
       "      <td>No</td>\n",
       "      <td>1</td>\n",
       "      <td>No</td>\n",
       "      <td>No phone service</td>\n",
       "      <td>DSL</td>\n",
       "      <td>No</td>\n",
       "      <td>...</td>\n",
       "      <td>No</td>\n",
       "      <td>No</td>\n",
       "      <td>No</td>\n",
       "      <td>No</td>\n",
       "      <td>Month-to-month</td>\n",
       "      <td>Yes</td>\n",
       "      <td>Electronic check</td>\n",
       "      <td>29.85</td>\n",
       "      <td>29.85</td>\n",
       "      <td>No</td>\n",
       "    </tr>\n",
       "    <tr>\n",
       "      <th>1</th>\n",
       "      <td>5575-GNVDE</td>\n",
       "      <td>Male</td>\n",
       "      <td>0</td>\n",
       "      <td>No</td>\n",
       "      <td>No</td>\n",
       "      <td>34</td>\n",
       "      <td>Yes</td>\n",
       "      <td>No</td>\n",
       "      <td>DSL</td>\n",
       "      <td>Yes</td>\n",
       "      <td>...</td>\n",
       "      <td>Yes</td>\n",
       "      <td>No</td>\n",
       "      <td>No</td>\n",
       "      <td>No</td>\n",
       "      <td>One year</td>\n",
       "      <td>No</td>\n",
       "      <td>Mailed check</td>\n",
       "      <td>56.95</td>\n",
       "      <td>1889.50</td>\n",
       "      <td>No</td>\n",
       "    </tr>\n",
       "    <tr>\n",
       "      <th>2</th>\n",
       "      <td>3668-QPYBK</td>\n",
       "      <td>Male</td>\n",
       "      <td>0</td>\n",
       "      <td>No</td>\n",
       "      <td>No</td>\n",
       "      <td>2</td>\n",
       "      <td>Yes</td>\n",
       "      <td>No</td>\n",
       "      <td>DSL</td>\n",
       "      <td>Yes</td>\n",
       "      <td>...</td>\n",
       "      <td>No</td>\n",
       "      <td>No</td>\n",
       "      <td>No</td>\n",
       "      <td>No</td>\n",
       "      <td>Month-to-month</td>\n",
       "      <td>Yes</td>\n",
       "      <td>Mailed check</td>\n",
       "      <td>53.85</td>\n",
       "      <td>108.15</td>\n",
       "      <td>Yes</td>\n",
       "    </tr>\n",
       "    <tr>\n",
       "      <th>3</th>\n",
       "      <td>7795-CFOCW</td>\n",
       "      <td>Male</td>\n",
       "      <td>0</td>\n",
       "      <td>No</td>\n",
       "      <td>No</td>\n",
       "      <td>45</td>\n",
       "      <td>No</td>\n",
       "      <td>No phone service</td>\n",
       "      <td>DSL</td>\n",
       "      <td>Yes</td>\n",
       "      <td>...</td>\n",
       "      <td>Yes</td>\n",
       "      <td>Yes</td>\n",
       "      <td>No</td>\n",
       "      <td>No</td>\n",
       "      <td>One year</td>\n",
       "      <td>No</td>\n",
       "      <td>Bank transfer (automatic)</td>\n",
       "      <td>42.30</td>\n",
       "      <td>1840.75</td>\n",
       "      <td>No</td>\n",
       "    </tr>\n",
       "    <tr>\n",
       "      <th>4</th>\n",
       "      <td>9237-HQITU</td>\n",
       "      <td>Female</td>\n",
       "      <td>0</td>\n",
       "      <td>No</td>\n",
       "      <td>No</td>\n",
       "      <td>2</td>\n",
       "      <td>Yes</td>\n",
       "      <td>No</td>\n",
       "      <td>Fiber optic</td>\n",
       "      <td>No</td>\n",
       "      <td>...</td>\n",
       "      <td>No</td>\n",
       "      <td>No</td>\n",
       "      <td>No</td>\n",
       "      <td>No</td>\n",
       "      <td>Month-to-month</td>\n",
       "      <td>Yes</td>\n",
       "      <td>Electronic check</td>\n",
       "      <td>70.70</td>\n",
       "      <td>151.65</td>\n",
       "      <td>Yes</td>\n",
       "    </tr>\n",
       "  </tbody>\n",
       "</table>\n",
       "<p>5 rows × 21 columns</p>\n",
       "</div>"
      ],
      "text/plain": [
       "   CustomerID  Gender  Senior Citizen Partner Dependents  Tenure  \\\n",
       "0  7590-VHVEG  Female               0     Yes         No       1   \n",
       "1  5575-GNVDE    Male               0      No         No      34   \n",
       "2  3668-QPYBK    Male               0      No         No       2   \n",
       "3  7795-CFOCW    Male               0      No         No      45   \n",
       "4  9237-HQITU  Female               0      No         No       2   \n",
       "\n",
       "  Phone Service    Multiple Lines Internet Service Online Security  ...  \\\n",
       "0            No  No phone service              DSL              No  ...   \n",
       "1           Yes                No              DSL             Yes  ...   \n",
       "2           Yes                No              DSL             Yes  ...   \n",
       "3            No  No phone service              DSL             Yes  ...   \n",
       "4           Yes                No      Fiber optic              No  ...   \n",
       "\n",
       "  Device Protection Tech Support Streaming TV Streaming Movies  \\\n",
       "0                No           No           No               No   \n",
       "1               Yes           No           No               No   \n",
       "2                No           No           No               No   \n",
       "3               Yes          Yes           No               No   \n",
       "4                No           No           No               No   \n",
       "\n",
       "         Contract Paperless Billing             Payment Method  \\\n",
       "0  Month-to-month               Yes           Electronic check   \n",
       "1        One year                No               Mailed check   \n",
       "2  Month-to-month               Yes               Mailed check   \n",
       "3        One year                No  Bank transfer (automatic)   \n",
       "4  Month-to-month               Yes           Electronic check   \n",
       "\n",
       "  Monthly Charges  Total Charges  Churn  \n",
       "0           29.85          29.85     No  \n",
       "1           56.95        1889.50     No  \n",
       "2           53.85         108.15    Yes  \n",
       "3           42.30        1840.75     No  \n",
       "4           70.70         151.65    Yes  \n",
       "\n",
       "[5 rows x 21 columns]"
      ]
     },
     "execution_count": 7,
     "metadata": {},
     "output_type": "execute_result"
    }
   ],
   "source": [
    "df_train.head()"
   ]
  },
  {
   "cell_type": "code",
   "execution_count": 8,
   "id": "1d7cba08",
   "metadata": {},
   "outputs": [
    {
     "data": {
      "text/plain": [
       "CustomerID            object\n",
       "Gender                object\n",
       "Senior Citizen         int64\n",
       "Partner               object\n",
       "Dependents            object\n",
       "Tenure                 int64\n",
       "Phone Service         object\n",
       "Multiple Lines        object\n",
       "Internet Service      object\n",
       "Online Security       object\n",
       "Online Backup         object\n",
       "Device Protection     object\n",
       "Tech Support          object\n",
       "Streaming TV          object\n",
       "Streaming Movies      object\n",
       "Contract              object\n",
       "Paperless Billing     object\n",
       "Payment Method        object\n",
       "Monthly Charges      float64\n",
       "Total Charges        float64\n",
       "Churn                 object\n",
       "dtype: object"
      ]
     },
     "execution_count": 8,
     "metadata": {},
     "output_type": "execute_result"
    }
   ],
   "source": [
    "df_train.dtypes"
   ]
  },
  {
   "cell_type": "code",
   "execution_count": 9,
   "id": "e897078b",
   "metadata": {},
   "outputs": [
    {
     "data": {
      "text/plain": [
       "(544, 20)"
      ]
     },
     "execution_count": 9,
     "metadata": {},
     "output_type": "execute_result"
    }
   ],
   "source": [
    "df_production.shape"
   ]
  },
  {
   "cell_type": "code",
   "execution_count": 10,
   "id": "355aa1f4",
   "metadata": {},
   "outputs": [
    {
     "data": {
      "text/html": [
       "<div>\n",
       "<style scoped>\n",
       "    .dataframe tbody tr th:only-of-type {\n",
       "        vertical-align: middle;\n",
       "    }\n",
       "\n",
       "    .dataframe tbody tr th {\n",
       "        vertical-align: top;\n",
       "    }\n",
       "\n",
       "    .dataframe thead th {\n",
       "        text-align: right;\n",
       "    }\n",
       "</style>\n",
       "<table border=\"1\" class=\"dataframe\">\n",
       "  <thead>\n",
       "    <tr style=\"text-align: right;\">\n",
       "      <th></th>\n",
       "      <th>CustomerID</th>\n",
       "      <th>Gender</th>\n",
       "      <th>Senior Citizen</th>\n",
       "      <th>Partner</th>\n",
       "      <th>Dependents</th>\n",
       "      <th>Tenure</th>\n",
       "      <th>Phone Service</th>\n",
       "      <th>Multiple Lines</th>\n",
       "      <th>Internet Service</th>\n",
       "      <th>Online Security</th>\n",
       "      <th>Online Backup</th>\n",
       "      <th>Device Protection</th>\n",
       "      <th>Tech Support</th>\n",
       "      <th>Streaming TV</th>\n",
       "      <th>Streaming Movies</th>\n",
       "      <th>Contract</th>\n",
       "      <th>Paperless Billing</th>\n",
       "      <th>Payment Method</th>\n",
       "      <th>Monthly Charges</th>\n",
       "      <th>Total Charges</th>\n",
       "    </tr>\n",
       "  </thead>\n",
       "  <tbody>\n",
       "    <tr>\n",
       "      <th>0</th>\n",
       "      <td>2676-ISHSF</td>\n",
       "      <td>Male</td>\n",
       "      <td>0</td>\n",
       "      <td>No</td>\n",
       "      <td>No</td>\n",
       "      <td>1</td>\n",
       "      <td>Yes</td>\n",
       "      <td>No</td>\n",
       "      <td>No</td>\n",
       "      <td>No internet service</td>\n",
       "      <td>No internet service</td>\n",
       "      <td>No internet service</td>\n",
       "      <td>No internet service</td>\n",
       "      <td>No internet service</td>\n",
       "      <td>No internet service</td>\n",
       "      <td>Month-to-month</td>\n",
       "      <td>No</td>\n",
       "      <td>Mailed check</td>\n",
       "      <td>20.30</td>\n",
       "      <td>20.30</td>\n",
       "    </tr>\n",
       "    <tr>\n",
       "      <th>1</th>\n",
       "      <td>9236-NDUCW</td>\n",
       "      <td>Female</td>\n",
       "      <td>0</td>\n",
       "      <td>No</td>\n",
       "      <td>No</td>\n",
       "      <td>21</td>\n",
       "      <td>No</td>\n",
       "      <td>No phone service</td>\n",
       "      <td>DSL</td>\n",
       "      <td>Yes</td>\n",
       "      <td>No</td>\n",
       "      <td>No</td>\n",
       "      <td>Yes</td>\n",
       "      <td>No</td>\n",
       "      <td>No</td>\n",
       "      <td>Two year</td>\n",
       "      <td>No</td>\n",
       "      <td>Mailed check</td>\n",
       "      <td>35.10</td>\n",
       "      <td>770.40</td>\n",
       "    </tr>\n",
       "    <tr>\n",
       "      <th>2</th>\n",
       "      <td>4753-PADAS</td>\n",
       "      <td>Female</td>\n",
       "      <td>0</td>\n",
       "      <td>Yes</td>\n",
       "      <td>No</td>\n",
       "      <td>67</td>\n",
       "      <td>Yes</td>\n",
       "      <td>Yes</td>\n",
       "      <td>Fiber optic</td>\n",
       "      <td>No</td>\n",
       "      <td>Yes</td>\n",
       "      <td>Yes</td>\n",
       "      <td>No</td>\n",
       "      <td>Yes</td>\n",
       "      <td>Yes</td>\n",
       "      <td>One year</td>\n",
       "      <td>Yes</td>\n",
       "      <td>Bank transfer (automatic)</td>\n",
       "      <td>105.70</td>\n",
       "      <td>6816.95</td>\n",
       "    </tr>\n",
       "    <tr>\n",
       "      <th>3</th>\n",
       "      <td>6103-QCKFX</td>\n",
       "      <td>Female</td>\n",
       "      <td>0</td>\n",
       "      <td>Yes</td>\n",
       "      <td>Yes</td>\n",
       "      <td>44</td>\n",
       "      <td>Yes</td>\n",
       "      <td>No</td>\n",
       "      <td>DSL</td>\n",
       "      <td>Yes</td>\n",
       "      <td>No</td>\n",
       "      <td>No</td>\n",
       "      <td>Yes</td>\n",
       "      <td>No</td>\n",
       "      <td>No</td>\n",
       "      <td>Month-to-month</td>\n",
       "      <td>No</td>\n",
       "      <td>Bank transfer (automatic)</td>\n",
       "      <td>56.25</td>\n",
       "      <td>2419.55</td>\n",
       "    </tr>\n",
       "    <tr>\n",
       "      <th>4</th>\n",
       "      <td>7781-EWARA</td>\n",
       "      <td>Male</td>\n",
       "      <td>0</td>\n",
       "      <td>Yes</td>\n",
       "      <td>Yes</td>\n",
       "      <td>70</td>\n",
       "      <td>No</td>\n",
       "      <td>No phone service</td>\n",
       "      <td>DSL</td>\n",
       "      <td>No</td>\n",
       "      <td>Yes</td>\n",
       "      <td>Yes</td>\n",
       "      <td>Yes</td>\n",
       "      <td>Yes</td>\n",
       "      <td>Yes</td>\n",
       "      <td>One year</td>\n",
       "      <td>No</td>\n",
       "      <td>Electronic check</td>\n",
       "      <td>60.35</td>\n",
       "      <td>4138.70</td>\n",
       "    </tr>\n",
       "  </tbody>\n",
       "</table>\n",
       "</div>"
      ],
      "text/plain": [
       "   CustomerID  Gender  Senior Citizen Partner Dependents  Tenure  \\\n",
       "0  2676-ISHSF    Male               0      No         No       1   \n",
       "1  9236-NDUCW  Female               0      No         No      21   \n",
       "2  4753-PADAS  Female               0     Yes         No      67   \n",
       "3  6103-QCKFX  Female               0     Yes        Yes      44   \n",
       "4  7781-EWARA    Male               0     Yes        Yes      70   \n",
       "\n",
       "  Phone Service    Multiple Lines Internet Service      Online Security  \\\n",
       "0           Yes                No               No  No internet service   \n",
       "1            No  No phone service              DSL                  Yes   \n",
       "2           Yes               Yes      Fiber optic                   No   \n",
       "3           Yes                No              DSL                  Yes   \n",
       "4            No  No phone service              DSL                   No   \n",
       "\n",
       "         Online Backup    Device Protection         Tech Support  \\\n",
       "0  No internet service  No internet service  No internet service   \n",
       "1                   No                   No                  Yes   \n",
       "2                  Yes                  Yes                   No   \n",
       "3                   No                   No                  Yes   \n",
       "4                  Yes                  Yes                  Yes   \n",
       "\n",
       "          Streaming TV     Streaming Movies        Contract Paperless Billing  \\\n",
       "0  No internet service  No internet service  Month-to-month                No   \n",
       "1                   No                   No        Two year                No   \n",
       "2                  Yes                  Yes        One year               Yes   \n",
       "3                   No                   No  Month-to-month                No   \n",
       "4                  Yes                  Yes        One year                No   \n",
       "\n",
       "              Payment Method  Monthly Charges  Total Charges  \n",
       "0               Mailed check            20.30          20.30  \n",
       "1               Mailed check            35.10         770.40  \n",
       "2  Bank transfer (automatic)           105.70        6816.95  \n",
       "3  Bank transfer (automatic)            56.25        2419.55  \n",
       "4           Electronic check            60.35        4138.70  "
      ]
     },
     "execution_count": 10,
     "metadata": {},
     "output_type": "execute_result"
    }
   ],
   "source": [
    "df_production.head()"
   ]
  },
  {
   "cell_type": "code",
   "execution_count": 11,
   "id": "0df31659",
   "metadata": {},
   "outputs": [
    {
     "data": {
      "text/plain": [
       "Index(['CustomerID', 'Gender', 'Senior Citizen', 'Partner', 'Dependents',\n",
       "       'Tenure', 'Phone Service', 'Multiple Lines', 'Internet Service',\n",
       "       'Online Security', 'Online Backup', 'Device Protection', 'Tech Support',\n",
       "       'Streaming TV', 'Streaming Movies', 'Contract', 'Paperless Billing',\n",
       "       'Payment Method', 'Monthly Charges', 'Total Charges'],\n",
       "      dtype='object')"
      ]
     },
     "execution_count": 11,
     "metadata": {},
     "output_type": "execute_result"
    }
   ],
   "source": [
    "df_production.columns"
   ]
  },
  {
   "cell_type": "markdown",
   "id": "e7731501",
   "metadata": {},
   "source": [
    "**Detecting and handling Null values from train data and production data**"
   ]
  },
  {
   "cell_type": "code",
   "execution_count": 12,
   "id": "cac8b1f6",
   "metadata": {},
   "outputs": [
    {
     "name": "stdout",
     "output_type": "stream",
     "text": [
      "Total Charges 9\n"
     ]
    }
   ],
   "source": [
    "null_values = df_train.isna().sum()\n",
    "for i in null_values.index:\n",
    "    if null_values[i]>0:\n",
    "        print(i,null_values[i])"
   ]
  },
  {
   "cell_type": "code",
   "execution_count": 13,
   "id": "dd16daea",
   "metadata": {},
   "outputs": [
    {
     "name": "stdout",
     "output_type": "stream",
     "text": [
      "Total Charges 2\n"
     ]
    }
   ],
   "source": [
    "null_values = df_production.isna().sum()\n",
    "for i in null_values.index:\n",
    "    if null_values[i]>0:\n",
    "        print(i,null_values[i])"
   ]
  },
  {
   "cell_type": "code",
   "execution_count": 14,
   "id": "cd9a5d02",
   "metadata": {
    "scrolled": true
   },
   "outputs": [],
   "source": [
    "#dropping churn column as it is dependent variable and will not be used in data preprocessing\n",
    "#df_train2 = df_train.drop('Churn',axis=1)\n",
    "#df_train2.dtypes"
   ]
  },
  {
   "cell_type": "code",
   "execution_count": 15,
   "id": "2f2d9f61",
   "metadata": {},
   "outputs": [],
   "source": [
    "#df_train_test = df_train2.append(df_production)"
   ]
  },
  {
   "cell_type": "code",
   "execution_count": 16,
   "id": "1a3c98a8",
   "metadata": {},
   "outputs": [
    {
     "data": {
      "text/plain": [
       "(6499, 21)"
      ]
     },
     "execution_count": 16,
     "metadata": {},
     "output_type": "execute_result"
    }
   ],
   "source": [
    "df_train.shape"
   ]
  },
  {
   "cell_type": "code",
   "execution_count": 17,
   "id": "cc87d0e6",
   "metadata": {},
   "outputs": [
    {
     "data": {
      "text/plain": [
       "0      29.85\n",
       "1    1889.50\n",
       "2     108.15\n",
       "3    1840.75\n",
       "4     151.65\n",
       "Name: Total Charges, dtype: float64"
      ]
     },
     "execution_count": 17,
     "metadata": {},
     "output_type": "execute_result"
    }
   ],
   "source": [
    "df_train['Total Charges'].head()"
   ]
  },
  {
   "cell_type": "code",
   "execution_count": 18,
   "id": "3986e861",
   "metadata": {},
   "outputs": [
    {
     "data": {
      "text/html": [
       "<div>\n",
       "<style scoped>\n",
       "    .dataframe tbody tr th:only-of-type {\n",
       "        vertical-align: middle;\n",
       "    }\n",
       "\n",
       "    .dataframe tbody tr th {\n",
       "        vertical-align: top;\n",
       "    }\n",
       "\n",
       "    .dataframe thead th {\n",
       "        text-align: right;\n",
       "    }\n",
       "</style>\n",
       "<table border=\"1\" class=\"dataframe\">\n",
       "  <thead>\n",
       "    <tr style=\"text-align: right;\">\n",
       "      <th></th>\n",
       "      <th>Senior Citizen</th>\n",
       "      <th>Tenure</th>\n",
       "      <th>Monthly Charges</th>\n",
       "      <th>Total Charges</th>\n",
       "    </tr>\n",
       "  </thead>\n",
       "  <tbody>\n",
       "    <tr>\n",
       "      <th>count</th>\n",
       "      <td>6499.000000</td>\n",
       "      <td>6499.000000</td>\n",
       "      <td>6499.000000</td>\n",
       "      <td>6490.000000</td>\n",
       "    </tr>\n",
       "    <tr>\n",
       "      <th>mean</th>\n",
       "      <td>0.162487</td>\n",
       "      <td>32.369134</td>\n",
       "      <td>64.733344</td>\n",
       "      <td>2282.935177</td>\n",
       "    </tr>\n",
       "    <tr>\n",
       "      <th>std</th>\n",
       "      <td>0.368925</td>\n",
       "      <td>24.584693</td>\n",
       "      <td>30.136193</td>\n",
       "      <td>2270.034922</td>\n",
       "    </tr>\n",
       "    <tr>\n",
       "      <th>min</th>\n",
       "      <td>0.000000</td>\n",
       "      <td>0.000000</td>\n",
       "      <td>18.250000</td>\n",
       "      <td>18.800000</td>\n",
       "    </tr>\n",
       "    <tr>\n",
       "      <th>25%</th>\n",
       "      <td>0.000000</td>\n",
       "      <td>9.000000</td>\n",
       "      <td>35.400000</td>\n",
       "      <td>399.300000</td>\n",
       "    </tr>\n",
       "    <tr>\n",
       "      <th>50%</th>\n",
       "      <td>0.000000</td>\n",
       "      <td>29.000000</td>\n",
       "      <td>70.350000</td>\n",
       "      <td>1397.100000</td>\n",
       "    </tr>\n",
       "    <tr>\n",
       "      <th>75%</th>\n",
       "      <td>0.000000</td>\n",
       "      <td>55.000000</td>\n",
       "      <td>89.850000</td>\n",
       "      <td>3786.612500</td>\n",
       "    </tr>\n",
       "    <tr>\n",
       "      <th>max</th>\n",
       "      <td>1.000000</td>\n",
       "      <td>72.000000</td>\n",
       "      <td>118.750000</td>\n",
       "      <td>8684.800000</td>\n",
       "    </tr>\n",
       "  </tbody>\n",
       "</table>\n",
       "</div>"
      ],
      "text/plain": [
       "       Senior Citizen       Tenure  Monthly Charges  Total Charges\n",
       "count     6499.000000  6499.000000      6499.000000    6490.000000\n",
       "mean         0.162487    32.369134        64.733344    2282.935177\n",
       "std          0.368925    24.584693        30.136193    2270.034922\n",
       "min          0.000000     0.000000        18.250000      18.800000\n",
       "25%          0.000000     9.000000        35.400000     399.300000\n",
       "50%          0.000000    29.000000        70.350000    1397.100000\n",
       "75%          0.000000    55.000000        89.850000    3786.612500\n",
       "max          1.000000    72.000000       118.750000    8684.800000"
      ]
     },
     "execution_count": 18,
     "metadata": {},
     "output_type": "execute_result"
    }
   ],
   "source": [
    "df_train.describe()"
   ]
  },
  {
   "cell_type": "markdown",
   "id": "4da4b8ab",
   "metadata": {},
   "source": [
    "* From the above analysis for 'Total charges' feature, the missing values are very less.\n",
    "* Imputing the missing values in 'Total charges' feature with median value."
   ]
  },
  {
   "cell_type": "code",
   "execution_count": 19,
   "id": "b3c68c49",
   "metadata": {},
   "outputs": [
    {
     "data": {
      "text/plain": [
       "CustomerID           0\n",
       "Gender               0\n",
       "Senior Citizen       0\n",
       "Partner              0\n",
       "Dependents           0\n",
       "Tenure               0\n",
       "Phone Service        0\n",
       "Multiple Lines       0\n",
       "Internet Service     0\n",
       "Online Security      0\n",
       "Online Backup        0\n",
       "Device Protection    0\n",
       "Tech Support         0\n",
       "Streaming TV         0\n",
       "Streaming Movies     0\n",
       "Contract             0\n",
       "Paperless Billing    0\n",
       "Payment Method       0\n",
       "Monthly Charges      0\n",
       "Total Charges        0\n",
       "Churn                0\n",
       "dtype: int64"
      ]
     },
     "execution_count": 19,
     "metadata": {},
     "output_type": "execute_result"
    }
   ],
   "source": [
    "df_train['Total Charges'] = df_train['Total Charges'].fillna(df_train['Total Charges'].median())\n",
    "df_train.isna().sum()"
   ]
  },
  {
   "cell_type": "code",
   "execution_count": 20,
   "id": "dd4ae933",
   "metadata": {},
   "outputs": [
    {
     "data": {
      "text/html": [
       "<div>\n",
       "<style scoped>\n",
       "    .dataframe tbody tr th:only-of-type {\n",
       "        vertical-align: middle;\n",
       "    }\n",
       "\n",
       "    .dataframe tbody tr th {\n",
       "        vertical-align: top;\n",
       "    }\n",
       "\n",
       "    .dataframe thead th {\n",
       "        text-align: right;\n",
       "    }\n",
       "</style>\n",
       "<table border=\"1\" class=\"dataframe\">\n",
       "  <thead>\n",
       "    <tr style=\"text-align: right;\">\n",
       "      <th></th>\n",
       "      <th>Gender</th>\n",
       "      <th>Senior Citizen</th>\n",
       "      <th>Partner</th>\n",
       "      <th>Dependents</th>\n",
       "      <th>Tenure</th>\n",
       "      <th>Phone Service</th>\n",
       "      <th>Multiple Lines</th>\n",
       "      <th>Internet Service</th>\n",
       "      <th>Online Security</th>\n",
       "      <th>Online Backup</th>\n",
       "      <th>Device Protection</th>\n",
       "      <th>Tech Support</th>\n",
       "      <th>Streaming TV</th>\n",
       "      <th>Streaming Movies</th>\n",
       "      <th>Contract</th>\n",
       "      <th>Paperless Billing</th>\n",
       "      <th>Payment Method</th>\n",
       "      <th>Monthly Charges</th>\n",
       "      <th>Total Charges</th>\n",
       "      <th>Churn</th>\n",
       "    </tr>\n",
       "  </thead>\n",
       "  <tbody>\n",
       "    <tr>\n",
       "      <th>0</th>\n",
       "      <td>Female</td>\n",
       "      <td>0</td>\n",
       "      <td>Yes</td>\n",
       "      <td>No</td>\n",
       "      <td>1</td>\n",
       "      <td>No</td>\n",
       "      <td>No phone service</td>\n",
       "      <td>DSL</td>\n",
       "      <td>No</td>\n",
       "      <td>Yes</td>\n",
       "      <td>No</td>\n",
       "      <td>No</td>\n",
       "      <td>No</td>\n",
       "      <td>No</td>\n",
       "      <td>Month-to-month</td>\n",
       "      <td>Yes</td>\n",
       "      <td>Electronic check</td>\n",
       "      <td>29.85</td>\n",
       "      <td>29.85</td>\n",
       "      <td>No</td>\n",
       "    </tr>\n",
       "    <tr>\n",
       "      <th>1</th>\n",
       "      <td>Male</td>\n",
       "      <td>0</td>\n",
       "      <td>No</td>\n",
       "      <td>No</td>\n",
       "      <td>34</td>\n",
       "      <td>Yes</td>\n",
       "      <td>No</td>\n",
       "      <td>DSL</td>\n",
       "      <td>Yes</td>\n",
       "      <td>No</td>\n",
       "      <td>Yes</td>\n",
       "      <td>No</td>\n",
       "      <td>No</td>\n",
       "      <td>No</td>\n",
       "      <td>One year</td>\n",
       "      <td>No</td>\n",
       "      <td>Mailed check</td>\n",
       "      <td>56.95</td>\n",
       "      <td>1889.50</td>\n",
       "      <td>No</td>\n",
       "    </tr>\n",
       "    <tr>\n",
       "      <th>2</th>\n",
       "      <td>Male</td>\n",
       "      <td>0</td>\n",
       "      <td>No</td>\n",
       "      <td>No</td>\n",
       "      <td>2</td>\n",
       "      <td>Yes</td>\n",
       "      <td>No</td>\n",
       "      <td>DSL</td>\n",
       "      <td>Yes</td>\n",
       "      <td>Yes</td>\n",
       "      <td>No</td>\n",
       "      <td>No</td>\n",
       "      <td>No</td>\n",
       "      <td>No</td>\n",
       "      <td>Month-to-month</td>\n",
       "      <td>Yes</td>\n",
       "      <td>Mailed check</td>\n",
       "      <td>53.85</td>\n",
       "      <td>108.15</td>\n",
       "      <td>Yes</td>\n",
       "    </tr>\n",
       "    <tr>\n",
       "      <th>3</th>\n",
       "      <td>Male</td>\n",
       "      <td>0</td>\n",
       "      <td>No</td>\n",
       "      <td>No</td>\n",
       "      <td>45</td>\n",
       "      <td>No</td>\n",
       "      <td>No phone service</td>\n",
       "      <td>DSL</td>\n",
       "      <td>Yes</td>\n",
       "      <td>No</td>\n",
       "      <td>Yes</td>\n",
       "      <td>Yes</td>\n",
       "      <td>No</td>\n",
       "      <td>No</td>\n",
       "      <td>One year</td>\n",
       "      <td>No</td>\n",
       "      <td>Bank transfer (automatic)</td>\n",
       "      <td>42.30</td>\n",
       "      <td>1840.75</td>\n",
       "      <td>No</td>\n",
       "    </tr>\n",
       "    <tr>\n",
       "      <th>4</th>\n",
       "      <td>Female</td>\n",
       "      <td>0</td>\n",
       "      <td>No</td>\n",
       "      <td>No</td>\n",
       "      <td>2</td>\n",
       "      <td>Yes</td>\n",
       "      <td>No</td>\n",
       "      <td>Fiber optic</td>\n",
       "      <td>No</td>\n",
       "      <td>No</td>\n",
       "      <td>No</td>\n",
       "      <td>No</td>\n",
       "      <td>No</td>\n",
       "      <td>No</td>\n",
       "      <td>Month-to-month</td>\n",
       "      <td>Yes</td>\n",
       "      <td>Electronic check</td>\n",
       "      <td>70.70</td>\n",
       "      <td>151.65</td>\n",
       "      <td>Yes</td>\n",
       "    </tr>\n",
       "  </tbody>\n",
       "</table>\n",
       "</div>"
      ],
      "text/plain": [
       "   Gender  Senior Citizen Partner Dependents  Tenure Phone Service  \\\n",
       "0  Female               0     Yes         No       1            No   \n",
       "1    Male               0      No         No      34           Yes   \n",
       "2    Male               0      No         No       2           Yes   \n",
       "3    Male               0      No         No      45            No   \n",
       "4  Female               0      No         No       2           Yes   \n",
       "\n",
       "     Multiple Lines Internet Service Online Security Online Backup  \\\n",
       "0  No phone service              DSL              No           Yes   \n",
       "1                No              DSL             Yes            No   \n",
       "2                No              DSL             Yes           Yes   \n",
       "3  No phone service              DSL             Yes            No   \n",
       "4                No      Fiber optic              No            No   \n",
       "\n",
       "  Device Protection Tech Support Streaming TV Streaming Movies  \\\n",
       "0                No           No           No               No   \n",
       "1               Yes           No           No               No   \n",
       "2                No           No           No               No   \n",
       "3               Yes          Yes           No               No   \n",
       "4                No           No           No               No   \n",
       "\n",
       "         Contract Paperless Billing             Payment Method  \\\n",
       "0  Month-to-month               Yes           Electronic check   \n",
       "1        One year                No               Mailed check   \n",
       "2  Month-to-month               Yes               Mailed check   \n",
       "3        One year                No  Bank transfer (automatic)   \n",
       "4  Month-to-month               Yes           Electronic check   \n",
       "\n",
       "   Monthly Charges  Total Charges Churn  \n",
       "0            29.85          29.85    No  \n",
       "1            56.95        1889.50    No  \n",
       "2            53.85         108.15   Yes  \n",
       "3            42.30        1840.75    No  \n",
       "4            70.70         151.65   Yes  "
      ]
     },
     "execution_count": 20,
     "metadata": {},
     "output_type": "execute_result"
    }
   ],
   "source": [
    "# Dropping CustomerID column from data frame as it adds very less importance for prediction\n",
    "df_train2 = df_train.drop('CustomerID',axis=1)\n",
    "df_train2.head()"
   ]
  },
  {
   "cell_type": "code",
   "execution_count": 21,
   "id": "acb77811",
   "metadata": {},
   "outputs": [
    {
     "data": {
      "text/html": [
       "<div>\n",
       "<style scoped>\n",
       "    .dataframe tbody tr th:only-of-type {\n",
       "        vertical-align: middle;\n",
       "    }\n",
       "\n",
       "    .dataframe tbody tr th {\n",
       "        vertical-align: top;\n",
       "    }\n",
       "\n",
       "    .dataframe thead th {\n",
       "        text-align: right;\n",
       "    }\n",
       "</style>\n",
       "<table border=\"1\" class=\"dataframe\">\n",
       "  <thead>\n",
       "    <tr style=\"text-align: right;\">\n",
       "      <th></th>\n",
       "      <th>Senior Citizen</th>\n",
       "      <th>Tenure</th>\n",
       "      <th>Monthly Charges</th>\n",
       "      <th>Total Charges</th>\n",
       "      <th>Churn</th>\n",
       "      <th>Gender_Female</th>\n",
       "      <th>Gender_Male</th>\n",
       "      <th>Partner_No</th>\n",
       "      <th>Partner_Yes</th>\n",
       "      <th>Dependents_No</th>\n",
       "      <th>...</th>\n",
       "      <th>Streaming Movies_Yes</th>\n",
       "      <th>Contract_Month-to-month</th>\n",
       "      <th>Contract_One year</th>\n",
       "      <th>Contract_Two year</th>\n",
       "      <th>Paperless Billing_No</th>\n",
       "      <th>Paperless Billing_Yes</th>\n",
       "      <th>Payment Method_Bank transfer (automatic)</th>\n",
       "      <th>Payment Method_Credit card (automatic)</th>\n",
       "      <th>Payment Method_Electronic check</th>\n",
       "      <th>Payment Method_Mailed check</th>\n",
       "    </tr>\n",
       "  </thead>\n",
       "  <tbody>\n",
       "    <tr>\n",
       "      <th>0</th>\n",
       "      <td>0</td>\n",
       "      <td>1</td>\n",
       "      <td>29.85</td>\n",
       "      <td>29.85</td>\n",
       "      <td>0</td>\n",
       "      <td>1</td>\n",
       "      <td>0</td>\n",
       "      <td>0</td>\n",
       "      <td>1</td>\n",
       "      <td>1</td>\n",
       "      <td>...</td>\n",
       "      <td>0</td>\n",
       "      <td>1</td>\n",
       "      <td>0</td>\n",
       "      <td>0</td>\n",
       "      <td>0</td>\n",
       "      <td>1</td>\n",
       "      <td>0</td>\n",
       "      <td>0</td>\n",
       "      <td>1</td>\n",
       "      <td>0</td>\n",
       "    </tr>\n",
       "    <tr>\n",
       "      <th>1</th>\n",
       "      <td>0</td>\n",
       "      <td>34</td>\n",
       "      <td>56.95</td>\n",
       "      <td>1889.50</td>\n",
       "      <td>0</td>\n",
       "      <td>0</td>\n",
       "      <td>1</td>\n",
       "      <td>1</td>\n",
       "      <td>0</td>\n",
       "      <td>1</td>\n",
       "      <td>...</td>\n",
       "      <td>0</td>\n",
       "      <td>0</td>\n",
       "      <td>1</td>\n",
       "      <td>0</td>\n",
       "      <td>1</td>\n",
       "      <td>0</td>\n",
       "      <td>0</td>\n",
       "      <td>0</td>\n",
       "      <td>0</td>\n",
       "      <td>1</td>\n",
       "    </tr>\n",
       "    <tr>\n",
       "      <th>2</th>\n",
       "      <td>0</td>\n",
       "      <td>2</td>\n",
       "      <td>53.85</td>\n",
       "      <td>108.15</td>\n",
       "      <td>1</td>\n",
       "      <td>0</td>\n",
       "      <td>1</td>\n",
       "      <td>1</td>\n",
       "      <td>0</td>\n",
       "      <td>1</td>\n",
       "      <td>...</td>\n",
       "      <td>0</td>\n",
       "      <td>1</td>\n",
       "      <td>0</td>\n",
       "      <td>0</td>\n",
       "      <td>0</td>\n",
       "      <td>1</td>\n",
       "      <td>0</td>\n",
       "      <td>0</td>\n",
       "      <td>0</td>\n",
       "      <td>1</td>\n",
       "    </tr>\n",
       "    <tr>\n",
       "      <th>3</th>\n",
       "      <td>0</td>\n",
       "      <td>45</td>\n",
       "      <td>42.30</td>\n",
       "      <td>1840.75</td>\n",
       "      <td>0</td>\n",
       "      <td>0</td>\n",
       "      <td>1</td>\n",
       "      <td>1</td>\n",
       "      <td>0</td>\n",
       "      <td>1</td>\n",
       "      <td>...</td>\n",
       "      <td>0</td>\n",
       "      <td>0</td>\n",
       "      <td>1</td>\n",
       "      <td>0</td>\n",
       "      <td>1</td>\n",
       "      <td>0</td>\n",
       "      <td>1</td>\n",
       "      <td>0</td>\n",
       "      <td>0</td>\n",
       "      <td>0</td>\n",
       "    </tr>\n",
       "    <tr>\n",
       "      <th>4</th>\n",
       "      <td>0</td>\n",
       "      <td>2</td>\n",
       "      <td>70.70</td>\n",
       "      <td>151.65</td>\n",
       "      <td>1</td>\n",
       "      <td>1</td>\n",
       "      <td>0</td>\n",
       "      <td>1</td>\n",
       "      <td>0</td>\n",
       "      <td>1</td>\n",
       "      <td>...</td>\n",
       "      <td>0</td>\n",
       "      <td>1</td>\n",
       "      <td>0</td>\n",
       "      <td>0</td>\n",
       "      <td>0</td>\n",
       "      <td>1</td>\n",
       "      <td>0</td>\n",
       "      <td>0</td>\n",
       "      <td>1</td>\n",
       "      <td>0</td>\n",
       "    </tr>\n",
       "  </tbody>\n",
       "</table>\n",
       "<p>5 rows × 46 columns</p>\n",
       "</div>"
      ],
      "text/plain": [
       "   Senior Citizen  Tenure  Monthly Charges  Total Charges  Churn  \\\n",
       "0               0       1            29.85          29.85      0   \n",
       "1               0      34            56.95        1889.50      0   \n",
       "2               0       2            53.85         108.15      1   \n",
       "3               0      45            42.30        1840.75      0   \n",
       "4               0       2            70.70         151.65      1   \n",
       "\n",
       "   Gender_Female  Gender_Male  Partner_No  Partner_Yes  Dependents_No  ...  \\\n",
       "0              1            0           0            1              1  ...   \n",
       "1              0            1           1            0              1  ...   \n",
       "2              0            1           1            0              1  ...   \n",
       "3              0            1           1            0              1  ...   \n",
       "4              1            0           1            0              1  ...   \n",
       "\n",
       "   Streaming Movies_Yes  Contract_Month-to-month  Contract_One year  \\\n",
       "0                     0                        1                  0   \n",
       "1                     0                        0                  1   \n",
       "2                     0                        1                  0   \n",
       "3                     0                        0                  1   \n",
       "4                     0                        1                  0   \n",
       "\n",
       "   Contract_Two year  Paperless Billing_No  Paperless Billing_Yes  \\\n",
       "0                  0                     0                      1   \n",
       "1                  0                     1                      0   \n",
       "2                  0                     0                      1   \n",
       "3                  0                     1                      0   \n",
       "4                  0                     0                      1   \n",
       "\n",
       "   Payment Method_Bank transfer (automatic)  \\\n",
       "0                                         0   \n",
       "1                                         0   \n",
       "2                                         0   \n",
       "3                                         1   \n",
       "4                                         0   \n",
       "\n",
       "   Payment Method_Credit card (automatic)  Payment Method_Electronic check  \\\n",
       "0                                       0                                1   \n",
       "1                                       0                                0   \n",
       "2                                       0                                0   \n",
       "3                                       0                                0   \n",
       "4                                       0                                1   \n",
       "\n",
       "   Payment Method_Mailed check  \n",
       "0                            0  \n",
       "1                            1  \n",
       "2                            1  \n",
       "3                            0  \n",
       "4                            0  \n",
       "\n",
       "[5 rows x 46 columns]"
      ]
     },
     "execution_count": 21,
     "metadata": {},
     "output_type": "execute_result"
    }
   ],
   "source": [
    "#Converting 'Churn' column values in data frame from Yes, No to 1,0 respectively\n",
    "df_train2['Churn'].replace(to_replace='Yes', value=1, inplace=True)\n",
    "df_train2['Churn'].replace(to_replace='No', value=0, inplace=True)\n",
    "\n",
    "#convert categorical values into numerical by creating dummies\n",
    "df_dummies = pd.get_dummies(df_train2)\n",
    "df_dummies.head()"
   ]
  },
  {
   "cell_type": "code",
   "execution_count": 22,
   "id": "7b514d3f",
   "metadata": {},
   "outputs": [
    {
     "data": {
      "text/plain": [
       "array([0, 1], dtype=int64)"
      ]
     },
     "execution_count": 22,
     "metadata": {},
     "output_type": "execute_result"
    }
   ],
   "source": [
    "df_dummies['Senior Citizen'].unique()"
   ]
  },
  {
   "cell_type": "markdown",
   "id": "9f4dfc5f",
   "metadata": {},
   "source": [
    "**Detecting and handling outliers in Tenure, Monthly Charges, Total Charges**"
   ]
  },
  {
   "cell_type": "markdown",
   "id": "58257be5",
   "metadata": {},
   "source": [
    "* From below analysis we can see that outliers are not present in data."
   ]
  },
  {
   "cell_type": "code",
   "execution_count": 23,
   "id": "b388338e",
   "metadata": {},
   "outputs": [
    {
     "name": "stdout",
     "output_type": "stream",
     "text": [
      "Outliers: []\n"
     ]
    }
   ],
   "source": [
    "# For 'Tenure' variable\n",
    "# Detecting Outliers/ spoting outliers\n",
    "# Using IQR\n",
    "q1 = df_dummies['Tenure'].quantile(0.25)\n",
    "q3 = df_dummies['Tenure'].quantile(0.75)\n",
    "IQR = q3-q1\n",
    "min_Value = q1-1.5*IQR\n",
    "max_Value = q3+1.5*IQR\n",
    "\n",
    "outliers = []\n",
    "for i in df_dummies['Tenure']:\n",
    "    #print(i)\n",
    "    if i< min_Value or i>max_Value:\n",
    "        outliers.append(i)\n",
    "print(\"Outliers:\",outliers)\n"
   ]
  },
  {
   "cell_type": "code",
   "execution_count": 24,
   "id": "f8c9f9ed",
   "metadata": {},
   "outputs": [
    {
     "data": {
      "image/png": "[encoded data removed]",
      "text/plain": [
       "<Figure size 720x288 with 1 Axes>"
      ]
     },
     "metadata": {
      "needs_background": "light"
     },
     "output_type": "display_data"
    }
   ],
   "source": [
    "#Visualizing outliers using BOX plot for Tenure variable\n",
    "plt.figure(figsize=(10,4))\n",
    "sns.boxplot(df_dummies['Tenure'])\n",
    "plt.show()"
   ]
  },
  {
   "cell_type": "code",
   "execution_count": 25,
   "id": "fcdf3cb6",
   "metadata": {},
   "outputs": [
    {
     "data": {
      "image/png": "[encoded data removed]",
      "text/plain": [
       "<Figure size 720x288 with 1 Axes>"
      ]
     },
     "metadata": {
      "needs_background": "light"
     },
     "output_type": "display_data"
    }
   ],
   "source": [
    "# ploting histogram to detect outliers\n",
    "plt.figure(figsize=(10,4))\n",
    "sns.histplot(df_dummies['Tenure'])\n",
    "plt.show()"
   ]
  },
  {
   "cell_type": "code",
   "execution_count": 26,
   "id": "f01a9977",
   "metadata": {},
   "outputs": [
    {
     "data": {
      "text/plain": [
       "32.369133712878906"
      ]
     },
     "execution_count": 26,
     "metadata": {},
     "output_type": "execute_result"
    }
   ],
   "source": [
    "df_dummies['Tenure'].mean()"
   ]
  },
  {
   "cell_type": "code",
   "execution_count": 27,
   "id": "23dc7015",
   "metadata": {},
   "outputs": [
    {
     "data": {
      "text/plain": [
       "29.0"
      ]
     },
     "execution_count": 27,
     "metadata": {},
     "output_type": "execute_result"
    }
   ],
   "source": [
    "df_dummies['Tenure'].median()"
   ]
  },
  {
   "cell_type": "code",
   "execution_count": 28,
   "id": "84e48e61",
   "metadata": {
    "scrolled": true
   },
   "outputs": [
    {
     "data": {
      "image/png": "[encoded data removed]",
      "text/plain": [
       "<Figure size 720x288 with 1 Axes>"
      ]
     },
     "metadata": {
      "needs_background": "light"
     },
     "output_type": "display_data"
    }
   ],
   "source": [
    "plt.figure(figsize=[10,4])\n",
    "sns.distplot(df_dummies['Tenure'])\n",
    "plt.show()"
   ]
  },
  {
   "cell_type": "markdown",
   "id": "a6219ed6",
   "metadata": {},
   "source": [
    "* From the above analysis we can say that the Tenure Variable in data doesn't have outliers"
   ]
  },
  {
   "cell_type": "code",
   "execution_count": 29,
   "id": "d54ccd2b",
   "metadata": {},
   "outputs": [
    {
     "name": "stdout",
     "output_type": "stream",
     "text": [
      "25% value of data: 35.4 \n",
      " 75% value of data: 89.85 \n",
      " Min_Value: -46.275 \n",
      "Max_value: 171.52499999999998\n",
      "Outliers []\n"
     ]
    }
   ],
   "source": [
    "#Detecting outliers for 'Monthly charges' variable\n",
    "#IQR\n",
    "\n",
    "q1 = df_dummies['Monthly Charges'].quantile(0.25)\n",
    "q3 = df_dummies['Monthly Charges'].quantile(0.75)\n",
    "IQR = q3-q1\n",
    "min_Value = q1-1.5*IQR\n",
    "max_Value = q3+1.5*IQR\n",
    "outliers = []\n",
    "print(\"25% value of data:\",q1,\"\\n 75% value of data:\",q3,\"\\n\",\"Min_Value:\",min_Value,\"\\nMax_value:\",max_Value)\n",
    "for i in df_dummies['Monthly Charges']:\n",
    "    if i<min_Value or i>max_Value:\n",
    "        outliers.append(i)\n",
    "print(\"Outliers\",outliers)"
   ]
  },
  {
   "cell_type": "code",
   "execution_count": 30,
   "id": "2401514d",
   "metadata": {},
   "outputs": [
    {
     "name": "stdout",
     "output_type": "stream",
     "text": [
      "Mean: 64.73334359132174 \n",
      "Median: 70.35\n"
     ]
    }
   ],
   "source": [
    "print(\"Mean:\",df_dummies['Monthly Charges'].mean(),\"\\nMedian:\",df_dummies['Monthly Charges'].median())"
   ]
  },
  {
   "cell_type": "code",
   "execution_count": 31,
   "id": "1e9f92be",
   "metadata": {},
   "outputs": [
    {
     "data": {
      "image/png": "[encoded data removed]",
      "text/plain": [
       "<Figure size 720x288 with 1 Axes>"
      ]
     },
     "metadata": {
      "needs_background": "light"
     },
     "output_type": "display_data"
    }
   ],
   "source": [
    "# detecting outliers using Visualization techniques\n",
    "#Box plot\n",
    "plt.figure(figsize=(10,4))\n",
    "sns.boxplot(df_dummies['Monthly Charges'])\n",
    "plt.show()"
   ]
  },
  {
   "cell_type": "code",
   "execution_count": 32,
   "id": "9155bf06",
   "metadata": {},
   "outputs": [
    {
     "data": {
      "image/png": "[encoded data removed]",
      "text/plain": [
       "<Figure size 720x288 with 1 Axes>"
      ]
     },
     "metadata": {
      "needs_background": "light"
     },
     "output_type": "display_data"
    }
   ],
   "source": [
    "plt.figure(figsize=(10,4))\n",
    "sns.distplot(df_dummies['Monthly Charges'])\n",
    "plt.show()"
   ]
  },
  {
   "cell_type": "markdown",
   "id": "afdc95f8",
   "metadata": {},
   "source": [
    "*From the above analysis we can say the Monthly_charges variable doesn't have outliers"
   ]
  },
  {
   "cell_type": "code",
   "execution_count": 33,
   "id": "43b559cd",
   "metadata": {},
   "outputs": [
    {
     "name": "stdout",
     "output_type": "stream",
     "text": [
      "Mean: 2281.7084474534545 \n",
      "Median: 1397.1\n"
     ]
    }
   ],
   "source": [
    "print(\"Mean:\",df_dummies['Total Charges'].mean(),\"\\nMedian:\",df_dummies['Total Charges'].median())"
   ]
  },
  {
   "cell_type": "code",
   "execution_count": 34,
   "id": "cb8b19a5",
   "metadata": {},
   "outputs": [
    {
     "name": "stdout",
     "output_type": "stream",
     "text": [
      "[]\n"
     ]
    }
   ],
   "source": [
    "# IQR to detect outliers for 'Total charges' variable\n",
    "q1 = df_dummies['Total Charges'].quantile(0.25)\n",
    "q3 = df_dummies['Total Charges'].quantile(0.75)\n",
    "IQR = q3-q1\n",
    "min_Value = q1-1.5*IQR\n",
    "max_Value = q3+1.5*IQR\n",
    "outliers = []\n",
    "for i in df_dummies['Total Charges']:\n",
    "    if i<min_Value or i>max_Value:\n",
    "        outliers.append(i)\n",
    "        \n",
    "print(outliers)"
   ]
  },
  {
   "cell_type": "code",
   "execution_count": 35,
   "id": "32687eba",
   "metadata": {},
   "outputs": [
    {
     "data": {
      "image/png": "[encoded data removed]",
      "text/plain": [
       "<Figure size 720x288 with 1 Axes>"
      ]
     },
     "metadata": {
      "needs_background": "light"
     },
     "output_type": "display_data"
    }
   ],
   "source": [
    "# Using box plot to detect outliers\n",
    "plt.figure(figsize=(10,4))\n",
    "sns.boxplot(df_dummies['Total Charges'])\n",
    "plt.show()"
   ]
  },
  {
   "cell_type": "code",
   "execution_count": 36,
   "id": "3dd2bc83",
   "metadata": {},
   "outputs": [
    {
     "data": {
      "text/plain": [
       "<AxesSubplot:xlabel='Total Charges', ylabel='Density'>"
      ]
     },
     "execution_count": 36,
     "metadata": {},
     "output_type": "execute_result"
    },
    {
     "data": {
      "image/png": "[encoded data removed]",
      "text/plain": [
       "<Figure size 720x288 with 1 Axes>"
      ]
     },
     "metadata": {
      "needs_background": "light"
     },
     "output_type": "display_data"
    }
   ],
   "source": [
    "# Distribution plot\n",
    "plt.figure(figsize=(10,4))\n",
    "sns.distplot(df_dummies['Total Charges'],hist_kws={'edgecolor':'black'})"
   ]
  },
  {
   "cell_type": "markdown",
   "id": "72ee268c",
   "metadata": {},
   "source": [
    "*From the above analysis we don't see any outliers present for Total Charges variable as well"
   ]
  },
  {
   "cell_type": "markdown",
   "id": "841bf95e",
   "metadata": {},
   "source": [
    "**EDA**"
   ]
  },
  {
   "cell_type": "code",
   "execution_count": 37,
   "id": "bda1b3bf",
   "metadata": {},
   "outputs": [
    {
     "data": {
      "text/plain": [
       "<AxesSubplot:>"
      ]
     },
     "execution_count": 37,
     "metadata": {},
     "output_type": "execute_result"
    },
    {
     "data": {
      "image/png": "[encoded data removed]",
      "text/plain": [
       "<Figure size 432x288 with 2 Axes>"
      ]
     },
     "metadata": {
      "needs_background": "light"
     },
     "output_type": "display_data"
    }
   ],
   "source": [
    "# Correlation between numerical values using HeatMap\n",
    "corr = sns.heatmap(df_train2.corr(),annot=True,cmap=\"YlGnBu\")\n",
    "corr"
   ]
  },
  {
   "cell_type": "markdown",
   "id": "08def8a3",
   "metadata": {},
   "source": [
    "* From the above correlation we can say that as the Monthly charges increase the Churn rate is more.\n",
    "* When the Tenure is less the churn rate is more.\n",
    "* Total Charges and Tenure are negatively correlated.\n",
    "* From the above correlation heatmap we can see that- Monthly charges and Senior citizen are positively correlated."
   ]
  },
  {
   "cell_type": "code",
   "execution_count": 38,
   "id": "e86c73b9",
   "metadata": {},
   "outputs": [
    {
     "data": {
      "text/plain": [
       "<AxesSubplot:xlabel='Churn', ylabel='count'>"
      ]
     },
     "execution_count": 38,
     "metadata": {},
     "output_type": "execute_result"
    },
    {
     "data": {
      "image/png": "[encoded data removed]",
      "text/plain": [
       "<Figure size 432x288 with 1 Axes>"
      ]
     },
     "metadata": {
      "needs_background": "light"
     },
     "output_type": "display_data"
    }
   ],
   "source": [
    "sns.countplot(data = df_train2, x= 'Churn')"
   ]
  },
  {
   "cell_type": "markdown",
   "id": "9414543e",
   "metadata": {},
   "source": [
    "* From above bar plot we can see the customer churn rate is less when compared to the customers staying with the company"
   ]
  },
  {
   "cell_type": "code",
   "execution_count": 39,
   "id": "78b3c464",
   "metadata": {
    "scrolled": true
   },
   "outputs": [
    {
     "data": {
      "text/plain": [
       "<AxesSubplot:xlabel='Gender', ylabel='count'>"
      ]
     },
     "execution_count": 39,
     "metadata": {},
     "output_type": "execute_result"
    },
    {
     "data": {
      "image/png": "[encoded data removed]",
      "text/plain": [
       "<Figure size 432x288 with 1 Axes>"
      ]
     },
     "metadata": {
      "needs_background": "light"
     },
     "output_type": "display_data"
    }
   ],
   "source": [
    "sns.countplot(data = df_train2, x= 'Gender',hue=\"Churn\")"
   ]
  },
  {
   "cell_type": "markdown",
   "id": "b5757007",
   "metadata": {},
   "source": [
    "* From above plot we can see that there isn't much variation in data w.r.t Gender.\n",
    "* Gender doesn't have much effect on churn rate"
   ]
  },
  {
   "cell_type": "code",
   "execution_count": 40,
   "id": "872ea703",
   "metadata": {},
   "outputs": [
    {
     "data": {
      "text/plain": [
       "<AxesSubplot:xlabel='Senior Citizen', ylabel='count'>"
      ]
     },
     "execution_count": 40,
     "metadata": {},
     "output_type": "execute_result"
    },
    {
     "data": {
      "image/png": "[encoded data removed]",
      "text/plain": [
       "<Figure size 432x288 with 1 Axes>"
      ]
     },
     "metadata": {
      "needs_background": "light"
     },
     "output_type": "display_data"
    }
   ],
   "source": [
    "sns.countplot(data=df_train2,x='Senior Citizen',hue='Churn')"
   ]
  },
  {
   "cell_type": "markdown",
   "id": "7cfb2f2e",
   "metadata": {},
   "source": [
    "* From above graph we can see in our data. percentage of customers who are senior citizens very less compared to youth subscripton."
   ]
  },
  {
   "cell_type": "code",
   "execution_count": 41,
   "id": "8caac55e",
   "metadata": {},
   "outputs": [
    {
     "data": {
      "text/plain": [
       "<AxesSubplot:title={'center':'With Dependents'}, xlabel='Dependents', ylabel='count'>"
      ]
     },
     "execution_count": 41,
     "metadata": {},
     "output_type": "execute_result"
    },
    {
     "data": {
      "image/png": "[encoded data removed]",
      "text/plain": [
       "<Figure size 864x288 with 2 Axes>"
      ]
     },
     "metadata": {
      "needs_background": "light"
     },
     "output_type": "display_data"
    }
   ],
   "source": [
    "# with partners/ with dependents\n",
    "figure, axis = plt.subplots(1,2,figsize=(12,4))\n",
    "axis[0].set_title('With Partner')\n",
    "axis[1].set_title('With Dependents')\n",
    "sns.countplot(data=df_train2,x='Partner',hue='Churn',ax=axis[0],)\n",
    "sns.countplot(data=df_train2,x='Dependents',hue='Churn',ax=axis[1])"
   ]
  },
  {
   "cell_type": "markdown",
   "id": "dd49dd72",
   "metadata": {},
   "source": [
    "* From the above analysis, \n",
    "The churn rate is more in customers who has partners compared to customers who have dependents"
   ]
  },
  {
   "cell_type": "code",
   "execution_count": 42,
   "id": "0ac5468a",
   "metadata": {},
   "outputs": [
    {
     "data": {
      "text/plain": [
       "Text(0.5, 1.0, 'customers by tenure')"
      ]
     },
     "execution_count": 42,
     "metadata": {},
     "output_type": "execute_result"
    },
    {
     "data": {
      "image/png": "[encoded data removed]",
      "text/plain": [
       "<Figure size 432x288 with 1 Axes>"
      ]
     },
     "metadata": {
      "needs_background": "light"
     },
     "output_type": "display_data"
    }
   ],
   "source": [
    "plot = sns.distplot(df_train2['Tenure'],hist = True ,bins=30, hist_kws={'edgecolor':'black'},kde=False)\n",
    "plot.set_xlabel('Tenure in months')\n",
    "plot.set_ylabel('number of customers')\n",
    "plot.set_title('customers by tenure')"
   ]
  },
  {
   "cell_type": "markdown",
   "id": "f86f2c7a",
   "metadata": {},
   "source": [
    "* Customers with less tenure tend to Churn more than long term customers.\n",
    "* Good to know that more number of customers stay in long tenure."
   ]
  },
  {
   "cell_type": "code",
   "execution_count": 43,
   "id": "55b7c8e8",
   "metadata": {},
   "outputs": [
    {
     "data": {
      "text/plain": [
       "<AxesSubplot:xlabel='Contract', ylabel='count'>"
      ]
     },
     "execution_count": 43,
     "metadata": {},
     "output_type": "execute_result"
    },
    {
     "data": {
      "image/png": "[encoded data removed]",
      "text/plain": [
       "<Figure size 432x288 with 1 Axes>"
      ]
     },
     "metadata": {
      "needs_background": "light"
     },
     "output_type": "display_data"
    }
   ],
   "source": [
    "# Churn based on Contract\n",
    "sns.countplot(data=df_train2,x='Contract',hue='Churn')"
   ]
  },
  {
   "cell_type": "markdown",
   "id": "fe329830",
   "metadata": {},
   "source": [
    "* From above plot we can see, the churn rate is more in Month-to-month\n",
    "* Churn rate is less in Two year contract"
   ]
  },
  {
   "cell_type": "code",
   "execution_count": 44,
   "id": "057a25ec",
   "metadata": {},
   "outputs": [
    {
     "data": {
      "text/plain": [
       "<AxesSubplot:xlabel='Monthly Charges', ylabel='Total Charges'>"
      ]
     },
     "execution_count": 44,
     "metadata": {},
     "output_type": "execute_result"
    },
    {
     "data": {
      "image/png": "[encoded data removed]",
      "text/plain": [
       "<Figure size 432x288 with 1 Axes>"
      ]
     },
     "metadata": {
      "needs_background": "light"
     },
     "output_type": "display_data"
    }
   ],
   "source": [
    "sns.scatterplot(x='Monthly Charges', y='Total Charges',data=df_train2)"
   ]
  },
  {
   "cell_type": "markdown",
   "id": "2accbbd5",
   "metadata": {},
   "source": [
    "* From above scatter plot we can see that Total charges increase as Monthly charges increase"
   ]
  },
  {
   "cell_type": "markdown",
   "id": "93c32375",
   "metadata": {},
   "source": [
    "* From the above EDA performed we can summarize that \n",
    "* The customer churn rate is less compared to customers staying with the company.\n",
    "* The Churn rate is high for monthly contract compared to Two year contract.\n",
    "* The more number of customers are youth.\n",
    "* The customers who are senior citizens tend to churn more.\n",
    "* The customer churn is more in less than 3 months tenure subscription, Good to know that more number of customers stay in long tenure.\n",
    "* Total charges and Tenure are negatively correlated with each other which says when the Total charge increases the Tenure of the customer to stay with the company decreases.\n",
    "* The churn rate is more in customers who has partners compared to customers who have dependents."
   ]
  },
  {
   "cell_type": "markdown",
   "id": "ee666bc5",
   "metadata": {},
   "source": [
    "**Applying Predictive Model to data**"
   ]
  },
  {
   "cell_type": "code",
   "execution_count": 45,
   "id": "1e959593",
   "metadata": {},
   "outputs": [],
   "source": [
    "# Taking x,y values from data frame\n",
    "y = df_dummies['Churn'].values\n",
    "X = df_dummies.drop('Churn',axis=1)\n",
    "\n",
    "# Scaling using MinMaxScalar\n",
    "scaled = MinMaxScaler(feature_range=(0,1))\n",
    "X_scaled = scaled.fit_transform(X)"
   ]
  },
  {
   "cell_type": "code",
   "execution_count": 46,
   "id": "50770887",
   "metadata": {},
   "outputs": [],
   "source": [
    "# Splitting train and test data\n",
    "X_train,X_test,y_train,y_test = train_test_split(X_scaled,y,test_size=0.3,random_state=30)"
   ]
  },
  {
   "cell_type": "markdown",
   "id": "900548e7",
   "metadata": {},
   "source": [
    "**Logistic Regression**"
   ]
  },
  {
   "cell_type": "code",
   "execution_count": 47,
   "id": "bc4ed9af",
   "metadata": {},
   "outputs": [],
   "source": [
    "model = LogisticRegression()\n",
    "Logistic_result = model.fit(X_train,y_train)"
   ]
  },
  {
   "cell_type": "code",
   "execution_count": 48,
   "id": "6103fbcd",
   "metadata": {},
   "outputs": [],
   "source": [
    "from sklearn.metrics import confusion_matrix,accuracy_score"
   ]
  },
  {
   "cell_type": "code",
   "execution_count": 49,
   "id": "742a8a1a",
   "metadata": {},
   "outputs": [],
   "source": [
    "from sklearn import metrics"
   ]
  },
  {
   "cell_type": "code",
   "execution_count": 50,
   "id": "3de26f3c",
   "metadata": {},
   "outputs": [
    {
     "data": {
      "text/plain": [
       "0.7917948717948718"
      ]
     },
     "execution_count": 50,
     "metadata": {},
     "output_type": "execute_result"
    }
   ],
   "source": [
    "y_pred = model.predict(X_test)\n",
    "\n",
    "# Accuracy of predicted test result  based on Logistic Regression\n",
    "accuracy_score(y_test,y_pred)"
   ]
  },
  {
   "cell_type": "code",
   "execution_count": 51,
   "id": "37ef0abd",
   "metadata": {},
   "outputs": [
    {
     "data": {
      "text/plain": [
       "0.8428308028771772"
      ]
     },
     "execution_count": 51,
     "metadata": {},
     "output_type": "execute_result"
    }
   ],
   "source": [
    "y_pred_AUC = model.predict_proba(X_test)\n",
    "metrics.roc_auc_score(y_test,y_pred_AUC[:,1])"
   ]
  },
  {
   "cell_type": "code",
   "execution_count": 52,
   "id": "116adb4c",
   "metadata": {},
   "outputs": [
    {
     "name": "stdout",
     "output_type": "stream",
     "text": [
      "Highest accuracy score is: [0.8057221965851408]\n"
     ]
    }
   ],
   "source": [
    "# Using kfold cross validation \n",
    "score = []\n",
    "from sklearn.model_selection import cross_val_score,KFold\n",
    "\n",
    "kfold = KFold(n_splits=3)\n",
    "crossValid = cross_val_score(model,X_scaled,y,cv=kfold)\n",
    "max_accuracy = max(crossValid)\n",
    "score.append(max_accuracy)\n",
    "print(\"Highest accuracy score is:\",sorted(score,reverse=True))"
   ]
  },
  {
   "cell_type": "markdown",
   "id": "891054be",
   "metadata": {},
   "source": [
    "* Accuracy score obtained for Logistic regression is 79.2%\n",
    "* ROC AUC score for Logistic Regression is 85.4%\n",
    "* Cross Validation score for Logistic Regression using Kfold is 80.6%"
   ]
  },
  {
   "cell_type": "code",
   "execution_count": 53,
   "id": "ebd37597",
   "metadata": {},
   "outputs": [
    {
     "name": "stdout",
     "output_type": "stream",
     "text": [
      "45\n"
     ]
    }
   ],
   "source": [
    "# Finding important features from data using Logistic Regression model\n",
    "important = model.coef_\n",
    "(X.columns.values,important)\n",
    "print(len(X.columns.values))\n",
    "type(important)\n",
    "featureNames = X.columns.values"
   ]
  },
  {
   "cell_type": "code",
   "execution_count": 54,
   "id": "ada3c03d",
   "metadata": {},
   "outputs": [
    {
     "name": "stdout",
     "output_type": "stream",
     "text": [
      "output after removed nested lists [0.24199018836583036, -3.063008653964895, -0.14219355354724159, 1.0344485286810352, -0.0035679361535018634, 0.002255142964998963, -0.0058792803242610605, 0.004566487135845164, 0.05519058929568987, -0.056503382484103915, 0.06858708823662404, -0.06989988142506862, -0.16312598563873895, 0.06858708823662343, 0.09322610421373934, -0.3755960300191058, 0.4865862412107918, -0.1123030043801589, 0.2708319995844082, -0.1123030043801936, -0.15984178839271468, 0.13854882175766972, -0.1123030043801589, -0.027558610565917047, 0.035572264324081976, -0.1123030043801936, 0.07541794686765765, 0.23548917684820417, -0.1123030043801589, -0.12449896565646348, -0.06602124564721304, -0.1123030043801936, 0.1770114568389795, -0.11557860149841737, -0.1123030043801589, 0.22656881269018125, 0.6584319387154484, -0.0717046163579697, -0.5880401155459363, -0.16861108833585628, 0.16729829514744995, -0.05965653679776993, -0.17536474743654462, 0.2591908598925968, -0.02548236884667723]\n",
      "45\n"
     ]
    }
   ],
   "source": [
    "#Remove the nested array/List and convert into flat list to map with each feature, to know important features\n",
    "output=[]\n",
    "def nestedList(l):\n",
    "    for i in l:\n",
    "        if type(i) == type(l):\n",
    "            nestedList(i)\n",
    "        else:\n",
    "            output.append(i)\n",
    "nestedList(important)\n",
    "print(\"output after removed nested lists\",output)\n",
    "print(len(output))"
   ]
  },
  {
   "cell_type": "code",
   "execution_count": 55,
   "id": "84d95185",
   "metadata": {},
   "outputs": [
    {
     "name": "stdout",
     "output_type": "stream",
     "text": [
      "{'Senior Citizen': 0.24199018836583036, 'Tenure': -3.063008653964895, 'Monthly Charges': -0.14219355354724159, 'Total Charges': 1.0344485286810352, 'Gender_Female': -0.0035679361535018634, 'Gender_Male': 0.002255142964998963, 'Partner_No': -0.0058792803242610605, 'Partner_Yes': 0.004566487135845164, 'Dependents_No': 0.05519058929568987, 'Dependents_Yes': -0.056503382484103915, 'Phone Service_No': 0.06858708823662404, 'Phone Service_Yes': -0.06989988142506862, 'Multiple Lines_No': -0.16312598563873895, 'Multiple Lines_No phone service': 0.06858708823662343, 'Multiple Lines_Yes': 0.09322610421373934, 'Internet Service_DSL': -0.3755960300191058, 'Internet Service_Fiber optic': 0.4865862412107918, 'Internet Service_No': -0.1123030043801589, 'Online Security_No': 0.2708319995844082, 'Online Security_No internet service': -0.1123030043801936, 'Online Security_Yes': -0.15984178839271468, 'Online Backup_No': 0.13854882175766972, 'Online Backup_No internet service': -0.1123030043801589, 'Online Backup_Yes': -0.027558610565917047, 'Device Protection_No': 0.035572264324081976, 'Device Protection_No internet service': -0.1123030043801936, 'Device Protection_Yes': 0.07541794686765765, 'Tech Support_No': 0.23548917684820417, 'Tech Support_No internet service': -0.1123030043801589, 'Tech Support_Yes': -0.12449896565646348, 'Streaming TV_No': -0.06602124564721304, 'Streaming TV_No internet service': -0.1123030043801936, 'Streaming TV_Yes': 0.1770114568389795, 'Streaming Movies_No': -0.11557860149841737, 'Streaming Movies_No internet service': -0.1123030043801589, 'Streaming Movies_Yes': 0.22656881269018125, 'Contract_Month-to-month': 0.6584319387154484, 'Contract_One year': -0.0717046163579697, 'Contract_Two year': -0.5880401155459363, 'Paperless Billing_No': -0.16861108833585628, 'Paperless Billing_Yes': 0.16729829514744995, 'Payment Method_Bank transfer (automatic)': -0.05965653679776993, 'Payment Method_Credit card (automatic)': -0.17536474743654462, 'Payment Method_Electronic check': 0.2591908598925968, 'Payment Method_Mailed check': -0.02548236884667723}\n"
     ]
    }
   ],
   "source": [
    "# Mapping features with its importance value using dictonary\n",
    "Features_important={}\n",
    "for i in range(len(output)):\n",
    "    Features_important[featureNames[i]]=output[i]\n",
    "print(Features_important)"
   ]
  },
  {
   "cell_type": "code",
   "execution_count": 56,
   "id": "ac9cf88a",
   "metadata": {},
   "outputs": [
    {
     "data": {
      "text/plain": [
       "{'Total Charges': 1.0344485286810352,\n",
       " 'Contract_Month-to-month': 0.6584319387154484,\n",
       " 'Internet Service_Fiber optic': 0.4865862412107918,\n",
       " 'Online Security_No': 0.2708319995844082,\n",
       " 'Payment Method_Electronic check': 0.2591908598925968,\n",
       " 'Senior Citizen': 0.24199018836583036,\n",
       " 'Tech Support_No': 0.23548917684820417,\n",
       " 'Streaming Movies_Yes': 0.22656881269018125,\n",
       " 'Streaming TV_Yes': 0.1770114568389795,\n",
       " 'Paperless Billing_Yes': 0.16729829514744995,\n",
       " 'Online Backup_No': 0.13854882175766972,\n",
       " 'Multiple Lines_Yes': 0.09322610421373934,\n",
       " 'Device Protection_Yes': 0.07541794686765765,\n",
       " 'Phone Service_No': 0.06858708823662404,\n",
       " 'Multiple Lines_No phone service': 0.06858708823662343,\n",
       " 'Dependents_No': 0.05519058929568987,\n",
       " 'Device Protection_No': 0.035572264324081976,\n",
       " 'Partner_Yes': 0.004566487135845164,\n",
       " 'Gender_Male': 0.002255142964998963,\n",
       " 'Gender_Female': -0.0035679361535018634,\n",
       " 'Partner_No': -0.0058792803242610605,\n",
       " 'Payment Method_Mailed check': -0.02548236884667723,\n",
       " 'Online Backup_Yes': -0.027558610565917047,\n",
       " 'Dependents_Yes': -0.056503382484103915,\n",
       " 'Payment Method_Bank transfer (automatic)': -0.05965653679776993,\n",
       " 'Streaming TV_No': -0.06602124564721304,\n",
       " 'Phone Service_Yes': -0.06989988142506862,\n",
       " 'Contract_One year': -0.0717046163579697,\n",
       " 'Internet Service_No': -0.1123030043801589,\n",
       " 'Online Backup_No internet service': -0.1123030043801589,\n",
       " 'Tech Support_No internet service': -0.1123030043801589,\n",
       " 'Streaming Movies_No internet service': -0.1123030043801589,\n",
       " 'Online Security_No internet service': -0.1123030043801936,\n",
       " 'Device Protection_No internet service': -0.1123030043801936,\n",
       " 'Streaming TV_No internet service': -0.1123030043801936,\n",
       " 'Streaming Movies_No': -0.11557860149841737,\n",
       " 'Tech Support_Yes': -0.12449896565646348,\n",
       " 'Monthly Charges': -0.14219355354724159,\n",
       " 'Online Security_Yes': -0.15984178839271468,\n",
       " 'Multiple Lines_No': -0.16312598563873895,\n",
       " 'Paperless Billing_No': -0.16861108833585628,\n",
       " 'Payment Method_Credit card (automatic)': -0.17536474743654462,\n",
       " 'Internet Service_DSL': -0.3755960300191058,\n",
       " 'Contract_Two year': -0.5880401155459363,\n",
       " 'Tenure': -3.063008653964895}"
      ]
     },
     "execution_count": 56,
     "metadata": {},
     "output_type": "execute_result"
    }
   ],
   "source": [
    "#Sorting features w.r.t. the importance\n",
    "Important_features_LR = dict(sorted(Features_important.items(),key= lambda x:x[1],reverse=True))\n",
    "Important_features_LR"
   ]
  },
  {
   "cell_type": "code",
   "execution_count": 57,
   "id": "6f927455",
   "metadata": {},
   "outputs": [
    {
     "data": {
      "text/plain": [
       "No     4784\n",
       "Yes    1715\n",
       "Name: Churn, dtype: int64"
      ]
     },
     "execution_count": 57,
     "metadata": {},
     "output_type": "execute_result"
    }
   ],
   "source": [
    "# checking weather data is balanced or unbalanced\n",
    "df_train['Churn'].value_counts()"
   ]
  },
  {
   "cell_type": "markdown",
   "id": "ede05bf9",
   "metadata": {},
   "source": [
    "**Random Forest Classifier**"
   ]
  },
  {
   "cell_type": "code",
   "execution_count": 58,
   "id": "56631893",
   "metadata": {},
   "outputs": [
    {
     "data": {
      "text/plain": [
       "RandomForestClassifier(n_estimators=300, random_state=36)"
      ]
     },
     "execution_count": 58,
     "metadata": {},
     "output_type": "execute_result"
    }
   ],
   "source": [
    "X_train,X_test,y_train,y_test = train_test_split(X_scaled,y,test_size=0.25,random_state=35)\n",
    "model_RF=RandomForestClassifier(n_estimators=300,random_state=36)\n",
    "model_RF.fit(X_train,y_train)"
   ]
  },
  {
   "cell_type": "code",
   "execution_count": 59,
   "id": "44e476b9",
   "metadata": {},
   "outputs": [
    {
     "data": {
      "text/plain": [
       "0.7870769230769231"
      ]
     },
     "execution_count": 59,
     "metadata": {},
     "output_type": "execute_result"
    }
   ],
   "source": [
    "y_pred = model_RF.predict(X_test)\n",
    "#accuracy score for Random Forest\n",
    "accuracy_score(y_test,y_pred)"
   ]
  },
  {
   "cell_type": "code",
   "execution_count": 60,
   "id": "bf937a55",
   "metadata": {},
   "outputs": [
    {
     "data": {
      "text/plain": [
       "0.818367751716337"
      ]
     },
     "execution_count": 60,
     "metadata": {},
     "output_type": "execute_result"
    }
   ],
   "source": [
    "y_pred_AUC = model_RF.predict_proba(X_test)\n",
    "metrics.roc_auc_score(y_test,y_pred_AUC[:,1])"
   ]
  },
  {
   "cell_type": "code",
   "execution_count": 61,
   "id": "ceacd912",
   "metadata": {},
   "outputs": [
    {
     "name": "stdout",
     "output_type": "stream",
     "text": [
      "Highest accuracy score is: [0.792339640055376]\n"
     ]
    }
   ],
   "source": [
    "# Using kfold cross validation \n",
    "score = []\n",
    "\n",
    "kfold = KFold(n_splits=3)\n",
    "crossValid = cross_val_score(model_RF,X_scaled,y,cv=kfold)\n",
    "max_accuracy = max(crossValid)\n",
    "score.append(max_accuracy)\n",
    "print(\"Highest accuracy score is:\",score)"
   ]
  },
  {
   "cell_type": "markdown",
   "id": "a3026dc2",
   "metadata": {},
   "source": [
    "* Accuracy score obtained for Random Forest Classifier is 78.7%\n",
    "* ROC AUC score for Random Forest Classifier is 97.1%\n",
    "* Cross Validation score for Random Forest Classifier is 79.2%"
   ]
  },
  {
   "cell_type": "code",
   "execution_count": 62,
   "id": "0ee6f966",
   "metadata": {},
   "outputs": [
    {
     "data": {
      "text/plain": [
       "{'Total Charges': 0.15958028103159222,\n",
       " 'Tenure': 0.14588048526106276,\n",
       " 'Monthly Charges': 0.13574114785274471,\n",
       " 'Contract_Month-to-month': 0.04559888779267046,\n",
       " 'Online Security_No': 0.03131847610305723,\n",
       " 'Payment Method_Electronic check': 0.03082926081210701,\n",
       " 'Tech Support_No': 0.02808859180382732,\n",
       " 'Internet Service_Fiber optic': 0.02434520108435181,\n",
       " 'Senior Citizen': 0.019954741553763294,\n",
       " 'Online Backup_No': 0.019306575301444587,\n",
       " 'Gender_Male': 0.018297837420288874,\n",
       " 'Gender_Female': 0.017959893083198245,\n",
       " 'Contract_Two year': 0.017894350009009713,\n",
       " 'Paperless Billing_Yes': 0.01638701508671278,\n",
       " 'Paperless Billing_No': 0.015227196569134066,\n",
       " 'Partner_Yes': 0.014308615264316251,\n",
       " 'Partner_No': 0.01412942827108415,\n",
       " 'Device Protection_No': 0.013648451476758177,\n",
       " 'Multiple Lines_No': 0.01360187757070807,\n",
       " 'Multiple Lines_Yes': 0.013183342264028307,\n",
       " 'Payment Method_Credit card (automatic)': 0.012661773835945815,\n",
       " 'Dependents_Yes': 0.012470705302551833,\n",
       " 'Streaming Movies_Yes': 0.012223385820628202,\n",
       " 'Dependents_No': 0.012072815272411693,\n",
       " 'Payment Method_Bank transfer (automatic)': 0.012008168787119543,\n",
       " 'Tech Support_Yes': 0.012001524790438936,\n",
       " 'Streaming TV_Yes': 0.011949650999647355,\n",
       " 'Device Protection_Yes': 0.011899974891648245,\n",
       " 'Online Backup_Yes': 0.011825676130207562,\n",
       " 'Internet Service_DSL': 0.011679323694085163,\n",
       " 'Streaming TV_No': 0.011627972651486988,\n",
       " 'Streaming Movies_No': 0.011597349737459513,\n",
       " 'Online Security_Yes': 0.011444356916367816,\n",
       " 'Payment Method_Mailed check': 0.010895229257931283,\n",
       " 'Contract_One year': 0.010656286482046612,\n",
       " 'Online Security_No internet service': 0.0034900131174577667,\n",
       " 'Phone Service_No': 0.00329192343751521,\n",
       " 'Multiple Lines_No phone service': 0.0031794305629072447,\n",
       " 'Phone Service_Yes': 0.0031377204630560224,\n",
       " 'Streaming TV_No internet service': 0.0027527336916996605,\n",
       " 'Tech Support_No internet service': 0.0026838930568701866,\n",
       " 'Online Backup_No internet service': 0.0025108433596167825,\n",
       " 'Streaming Movies_No internet service': 0.002403793871125448,\n",
       " 'Device Protection_No internet service': 0.002150274071359603,\n",
       " 'Internet Service_No': 0.002103524186555566}"
      ]
     },
     "execution_count": 62,
     "metadata": {},
     "output_type": "execute_result"
    }
   ],
   "source": [
    "# Important features\n",
    "important = model_RF.feature_importances_\n",
    "# Mapping features with its importance value using dictonary\n",
    "Features_important={}\n",
    "for i in range(len(important)):\n",
    "    Features_important[featureNames[i]]=important[i]\n",
    "#Sorting features w.r.t. the importance\n",
    "Important_features_RF = dict(sorted(Features_important.items(),key= lambda x:x[1],reverse=True))\n",
    "Important_features_RF"
   ]
  },
  {
   "cell_type": "markdown",
   "id": "030b0fe5",
   "metadata": {},
   "source": [
    "**XGBoost**"
   ]
  },
  {
   "cell_type": "code",
   "execution_count": 63,
   "id": "830c5792",
   "metadata": {},
   "outputs": [],
   "source": [
    "X_train,X_test,y_train,y_test = train_test_split(X_scaled,y,test_size=0.20,random_state=27)"
   ]
  },
  {
   "cell_type": "code",
   "execution_count": 64,
   "id": "3ca2e056",
   "metadata": {},
   "outputs": [
    {
     "name": "stdout",
     "output_type": "stream",
     "text": [
      "[11:01:47] WARNING: C:/Users/Administrator/workspace/xgboost-win64_release_1.5.1/src/learner.cc:1115: Starting in XGBoost 1.3.0, the default evaluation metric used with the objective 'binary:logistic' was changed from 'error' to 'logloss'. Explicitly set eval_metric if you'd like to restore the old behavior.\n"
     ]
    },
    {
     "data": {
      "text/plain": [
       "XGBClassifier(base_score=0.5, booster='gbtree', colsample_bylevel=1,\n",
       "              colsample_bynode=1, colsample_bytree=1, enable_categorical=False,\n",
       "              gamma=0, gpu_id=-1, importance_type=None,\n",
       "              interaction_constraints='', learning_rate=0.300000012,\n",
       "              max_delta_step=0, max_depth=6, min_child_weight=1, missing=nan,\n",
       "              monotone_constraints='()', n_estimators=100, n_jobs=8,\n",
       "              num_parallel_tree=1, predictor='auto', random_state=0,\n",
       "              reg_alpha=0, reg_lambda=1, scale_pos_weight=1, subsample=1,\n",
       "              tree_method='exact', validate_parameters=1, verbosity=None)"
      ]
     },
     "execution_count": 64,
     "metadata": {},
     "output_type": "execute_result"
    }
   ],
   "source": [
    "# Applying XG Boost Classifier \n",
    "model_XGB = XGBClassifier()\n",
    "model_XGB.fit(X_train,y_train)"
   ]
  },
  {
   "cell_type": "code",
   "execution_count": 65,
   "id": "5e1236eb",
   "metadata": {},
   "outputs": [
    {
     "data": {
      "text/plain": [
       "0.7938461538461539"
      ]
     },
     "execution_count": 65,
     "metadata": {},
     "output_type": "execute_result"
    }
   ],
   "source": [
    "y_pred = model_XGB.predict(X_test)\n",
    "accuracy_score(y_test,y_pred)"
   ]
  },
  {
   "cell_type": "code",
   "execution_count": 66,
   "id": "28d3cb24",
   "metadata": {},
   "outputs": [
    {
     "data": {
      "text/plain": [
       "0.8292435015807796"
      ]
     },
     "execution_count": 66,
     "metadata": {},
     "output_type": "execute_result"
    }
   ],
   "source": [
    "y_pred_AUC = model_XGB.predict_proba(X_test)\n",
    "metrics.roc_auc_score(y_test,y_pred_AUC[:,1])"
   ]
  },
  {
   "cell_type": "code",
   "execution_count": 67,
   "id": "97a3c4c2",
   "metadata": {},
   "outputs": [
    {
     "name": "stdout",
     "output_type": "stream",
     "text": [
      "[11:01:48] WARNING: C:/Users/Administrator/workspace/xgboost-win64_release_1.5.1/src/learner.cc:1115: Starting in XGBoost 1.3.0, the default evaluation metric used with the objective 'binary:logistic' was changed from 'error' to 'logloss'. Explicitly set eval_metric if you'd like to restore the old behavior.\n",
      "[11:01:48] WARNING: C:/Users/Administrator/workspace/xgboost-win64_release_1.5.1/src/learner.cc:1115: Starting in XGBoost 1.3.0, the default evaluation metric used with the objective 'binary:logistic' was changed from 'error' to 'logloss'. Explicitly set eval_metric if you'd like to restore the old behavior.\n",
      "[11:01:49] WARNING: C:/Users/Administrator/workspace/xgboost-win64_release_1.5.1/src/learner.cc:1115: Starting in XGBoost 1.3.0, the default evaluation metric used with the objective 'binary:logistic' was changed from 'error' to 'logloss'. Explicitly set eval_metric if you'd like to restore the old behavior.\n",
      "Highest accuracy score is: [0.7931671283471837]\n"
     ]
    }
   ],
   "source": [
    "# Using kfold cross validation \n",
    "score = []\n",
    "\n",
    "kfold = KFold(n_splits=3)\n",
    "crossValid = cross_val_score(model_XGB,X_scaled,y,cv=kfold)\n",
    "max_accuracy = max(crossValid)\n",
    "score.append(max_accuracy)\n",
    "print(\"Highest accuracy score is:\",score)"
   ]
  },
  {
   "cell_type": "markdown",
   "id": "2337ab48",
   "metadata": {},
   "source": [
    "* Accuracy score obtained for XGBoost classifier is 79.4%\n",
    "* ROC AUC score obtained for XGBoost classifier is 96.1%\n",
    "* Cross Validation Score for XGBoost classifier is 79.3%"
   ]
  },
  {
   "cell_type": "code",
   "execution_count": 68,
   "id": "804fda09",
   "metadata": {},
   "outputs": [
    {
     "data": {
      "text/plain": [
       "{'Contract_Month-to-month': 0.37392467,\n",
       " 'Internet Service_Fiber optic': 0.19772035,\n",
       " 'Contract_Two year': 0.035097647,\n",
       " 'Online Security_No': 0.031971365,\n",
       " 'Internet Service_DSL': 0.030965647,\n",
       " 'Tech Support_No': 0.025284503,\n",
       " 'Streaming TV_Yes': 0.01759143,\n",
       " 'Phone Service_No': 0.016664423,\n",
       " 'Payment Method_Electronic check': 0.016655099,\n",
       " 'Paperless Billing_No': 0.016397642,\n",
       " 'Contract_One year': 0.014879522,\n",
       " 'Streaming Movies_No': 0.0145154875,\n",
       " 'Tenure': 0.014423264,\n",
       " 'Online Backup_No': 0.013706279,\n",
       " 'Streaming Movies_Yes': 0.01358416,\n",
       " 'Total Charges': 0.012934094,\n",
       " 'Online Backup_Yes': 0.012670355,\n",
       " 'Multiple Lines_No': 0.01266793,\n",
       " 'Monthly Charges': 0.011185283,\n",
       " 'Senior Citizen': 0.011115952,\n",
       " 'Streaming TV_No': 0.01092533,\n",
       " 'Multiple Lines_Yes': 0.010905686,\n",
       " 'Dependents_No': 0.009860396,\n",
       " 'Gender_Female': 0.009393529,\n",
       " 'Partner_No': 0.00912628,\n",
       " 'Payment Method_Bank transfer (automatic)': 0.008937378,\n",
       " 'Device Protection_No': 0.008501952,\n",
       " 'Payment Method_Credit card (automatic)': 0.008331906,\n",
       " 'Online Security_Yes': 0.007997447,\n",
       " 'Payment Method_Mailed check': 0.007871562,\n",
       " 'Tech Support_Yes': 0.0075749657,\n",
       " 'Device Protection_Yes': 0.0066185025,\n",
       " 'Gender_Male': 0.0,\n",
       " 'Partner_Yes': 0.0,\n",
       " 'Dependents_Yes': 0.0,\n",
       " 'Phone Service_Yes': 0.0,\n",
       " 'Multiple Lines_No phone service': 0.0,\n",
       " 'Internet Service_No': 0.0,\n",
       " 'Online Security_No internet service': 0.0,\n",
       " 'Online Backup_No internet service': 0.0,\n",
       " 'Device Protection_No internet service': 0.0,\n",
       " 'Tech Support_No internet service': 0.0,\n",
       " 'Streaming TV_No internet service': 0.0,\n",
       " 'Streaming Movies_No internet service': 0.0,\n",
       " 'Paperless Billing_Yes': 0.0}"
      ]
     },
     "execution_count": 68,
     "metadata": {},
     "output_type": "execute_result"
    }
   ],
   "source": [
    "# Important features\n",
    "important = model_XGB.feature_importances_\n",
    "# Mapping features with its importance value using dictonary\n",
    "Features_important={}\n",
    "for i in range(len(important)):\n",
    "    Features_important[featureNames[i]]=important[i]\n",
    "#Sorting features w.r.t. the importance\n",
    "Important_features_XGB = dict(sorted(Features_important.items(),key= lambda x:x[1],reverse=True))\n",
    "Important_features_XGB"
   ]
  },
  {
   "cell_type": "markdown",
   "id": "154e9014",
   "metadata": {},
   "source": [
    "**Support vector Machine(SVM)**"
   ]
  },
  {
   "cell_type": "code",
   "execution_count": 69,
   "id": "5653923d",
   "metadata": {},
   "outputs": [],
   "source": [
    "X_train,X_test,y_train,y_test = train_test_split(X_scaled,y,test_size=0.25,random_state=72)"
   ]
  },
  {
   "cell_type": "code",
   "execution_count": 70,
   "id": "6d060de1",
   "metadata": {},
   "outputs": [
    {
     "data": {
      "text/plain": [
       "SVC(kernel='linear')"
      ]
     },
     "execution_count": 70,
     "metadata": {},
     "output_type": "execute_result"
    }
   ],
   "source": [
    "# Applying Support Vector machine Algorithm with kernal as linear\n",
    "model_SVC = SVC(kernel='linear')\n",
    "model_SVC.fit(X_train,y_train)"
   ]
  },
  {
   "cell_type": "code",
   "execution_count": 71,
   "id": "8780afaa",
   "metadata": {},
   "outputs": [
    {
     "data": {
      "text/plain": [
       "0.7932307692307692"
      ]
     },
     "execution_count": 71,
     "metadata": {},
     "output_type": "execute_result"
    }
   ],
   "source": [
    "y_pred = model_SVC.predict(X_test)\n",
    "accuracy_score(y_test,y_pred)"
   ]
  },
  {
   "cell_type": "code",
   "execution_count": 72,
   "id": "f388a55b",
   "metadata": {},
   "outputs": [
    {
     "name": "stdout",
     "output_type": "stream",
     "text": [
      "Highest accuracy score is: [0.8071065989847716]\n"
     ]
    }
   ],
   "source": [
    "# Using kfold cross validation \n",
    "score = []\n",
    "\n",
    "kfold = KFold(n_splits=3)\n",
    "crossValid = cross_val_score(model_SVC,X_scaled,y,cv=kfold)\n",
    "max_accuracy = max(crossValid)\n",
    "score.append(max_accuracy)\n",
    "print(\"Highest accuracy score is:\",score)"
   ]
  },
  {
   "cell_type": "markdown",
   "id": "aa20aea0",
   "metadata": {},
   "source": [
    "* Accuracy score obtained for SVC is 79.3%\n",
    "* Cross validation score for SVC is 80.7%"
   ]
  },
  {
   "cell_type": "code",
   "execution_count": 73,
   "id": "5efebc7e",
   "metadata": {},
   "outputs": [
    {
     "data": {
      "text/plain": [
       "array([[1060,  123],\n",
       "       [ 213,  229]], dtype=int64)"
      ]
     },
     "execution_count": 73,
     "metadata": {},
     "output_type": "execute_result"
    }
   ],
   "source": [
    "# Confusion matrix for SVM model\n",
    "confusion_matrix(y_test,y_pred)"
   ]
  },
  {
   "cell_type": "code",
   "execution_count": 74,
   "id": "78c01241",
   "metadata": {},
   "outputs": [
    {
     "name": "stdout",
     "output_type": "stream",
     "text": [
      "              precision    recall  f1-score   support\n",
      "\n",
      "           0       0.83      0.90      0.86      1183\n",
      "           1       0.65      0.52      0.58       442\n",
      "\n",
      "    accuracy                           0.79      1625\n",
      "   macro avg       0.74      0.71      0.72      1625\n",
      "weighted avg       0.78      0.79      0.79      1625\n",
      "\n"
     ]
    }
   ],
   "source": [
    "#Classification report for SVM\n",
    "from sklearn.metrics import classification_report\n",
    "ClassificationReport=classification_report(y_test,y_pred)\n",
    "print(ClassificationReport)"
   ]
  },
  {
   "cell_type": "markdown",
   "id": "552afe81",
   "metadata": {},
   "source": [
    "**Decision Tree**"
   ]
  },
  {
   "cell_type": "code",
   "execution_count": 75,
   "id": "4cc5654a",
   "metadata": {},
   "outputs": [
    {
     "data": {
      "text/plain": [
       "DecisionTreeClassifier(random_state=38)"
      ]
     },
     "execution_count": 75,
     "metadata": {},
     "output_type": "execute_result"
    }
   ],
   "source": [
    "model_DT = DecisionTreeClassifier(random_state=38)\n",
    "model_DT.fit(X_train,y_train)"
   ]
  },
  {
   "cell_type": "code",
   "execution_count": 76,
   "id": "bfc7f4ea",
   "metadata": {},
   "outputs": [
    {
     "data": {
      "text/plain": [
       "0.7267692307692307"
      ]
     },
     "execution_count": 76,
     "metadata": {},
     "output_type": "execute_result"
    }
   ],
   "source": [
    "y_pred = model_DT.predict(X_test)\n",
    "accuracy_score(y_test,y_pred)"
   ]
  },
  {
   "cell_type": "code",
   "execution_count": 77,
   "id": "d74750ed",
   "metadata": {},
   "outputs": [
    {
     "data": {
      "text/plain": [
       "0.660704245284823"
      ]
     },
     "execution_count": 77,
     "metadata": {},
     "output_type": "execute_result"
    }
   ],
   "source": [
    "y_pred_AUC = model_DT.predict_proba(X_test)\n",
    "metrics.roc_auc_score(y_test,y_pred_AUC[:,1])"
   ]
  },
  {
   "cell_type": "code",
   "execution_count": 78,
   "id": "ac54b12f",
   "metadata": {},
   "outputs": [
    {
     "name": "stdout",
     "output_type": "stream",
     "text": [
      "Highest accuracy score is: [0.7328103368712505]\n"
     ]
    }
   ],
   "source": [
    "# Using kfold cross validation \n",
    "score = []\n",
    "\n",
    "kfold = KFold(n_splits=3)\n",
    "crossValid = cross_val_score(model_DT,X_scaled,y,cv=kfold)\n",
    "max_accuracy = max(crossValid)\n",
    "score.append(max_accuracy)\n",
    "print(\"Highest accuracy score is:\",score)"
   ]
  },
  {
   "cell_type": "markdown",
   "id": "e81ea8a1",
   "metadata": {},
   "source": [
    "* Accuracy score obtained for Decision tree is 72.7%\n",
    "* ROC AUC score obtained is 66%\n",
    "* Cross validation score for Decision tree is 73.3%"
   ]
  },
  {
   "cell_type": "markdown",
   "id": "95b34c10",
   "metadata": {},
   "source": [
    "* From the above accuracy using the models, we can see that the prediction accuracy is more for \"Random Forest Classifer\" \n",
    "with 97.3% accuracy using ROC AUC score.\n",
    "* The next highest accuracy score using ROC AUC score is more for \"XGBoost Classifier\" with 96.1%"
   ]
  },
  {
   "cell_type": "markdown",
   "id": "9fb5ee41",
   "metadata": {},
   "source": [
    "**Working on Production data**"
   ]
  },
  {
   "cell_type": "code",
   "execution_count": 79,
   "id": "63252186",
   "metadata": {},
   "outputs": [
    {
     "data": {
      "text/plain": [
       "(544, 20)"
      ]
     },
     "execution_count": 79,
     "metadata": {},
     "output_type": "execute_result"
    }
   ],
   "source": [
    "df_production.shape"
   ]
  },
  {
   "cell_type": "code",
   "execution_count": 80,
   "id": "2261a08a",
   "metadata": {},
   "outputs": [
    {
     "data": {
      "text/plain": [
       "CustomerID           0\n",
       "Gender               0\n",
       "Senior Citizen       0\n",
       "Partner              0\n",
       "Dependents           0\n",
       "Tenure               0\n",
       "Phone Service        0\n",
       "Multiple Lines       0\n",
       "Internet Service     0\n",
       "Online Security      0\n",
       "Online Backup        0\n",
       "Device Protection    0\n",
       "Tech Support         0\n",
       "Streaming TV         0\n",
       "Streaming Movies     0\n",
       "Contract             0\n",
       "Paperless Billing    0\n",
       "Payment Method       0\n",
       "Monthly Charges      0\n",
       "Total Charges        2\n",
       "dtype: int64"
      ]
     },
     "execution_count": 80,
     "metadata": {},
     "output_type": "execute_result"
    }
   ],
   "source": [
    "df_production.isna().sum()"
   ]
  },
  {
   "cell_type": "code",
   "execution_count": 81,
   "id": "1fc70ff1",
   "metadata": {},
   "outputs": [
    {
     "data": {
      "text/plain": [
       "(542, 20)"
      ]
     },
     "execution_count": 81,
     "metadata": {},
     "output_type": "execute_result"
    }
   ],
   "source": [
    "#dropping the null value rows\n",
    "df_production.dropna(inplace=True)\n",
    "df_production.shape"
   ]
  },
  {
   "cell_type": "code",
   "execution_count": 82,
   "id": "523213b7",
   "metadata": {},
   "outputs": [
    {
     "data": {
      "text/html": [
       "<div>\n",
       "<style scoped>\n",
       "    .dataframe tbody tr th:only-of-type {\n",
       "        vertical-align: middle;\n",
       "    }\n",
       "\n",
       "    .dataframe tbody tr th {\n",
       "        vertical-align: top;\n",
       "    }\n",
       "\n",
       "    .dataframe thead th {\n",
       "        text-align: right;\n",
       "    }\n",
       "</style>\n",
       "<table border=\"1\" class=\"dataframe\">\n",
       "  <thead>\n",
       "    <tr style=\"text-align: right;\">\n",
       "      <th></th>\n",
       "      <th>Senior Citizen</th>\n",
       "      <th>Tenure</th>\n",
       "      <th>Monthly Charges</th>\n",
       "      <th>Total Charges</th>\n",
       "      <th>Gender_Female</th>\n",
       "      <th>Gender_Male</th>\n",
       "      <th>Partner_No</th>\n",
       "      <th>Partner_Yes</th>\n",
       "      <th>Dependents_No</th>\n",
       "      <th>Dependents_Yes</th>\n",
       "      <th>...</th>\n",
       "      <th>Streaming Movies_Yes</th>\n",
       "      <th>Contract_Month-to-month</th>\n",
       "      <th>Contract_One year</th>\n",
       "      <th>Contract_Two year</th>\n",
       "      <th>Paperless Billing_No</th>\n",
       "      <th>Paperless Billing_Yes</th>\n",
       "      <th>Payment Method_Bank transfer (automatic)</th>\n",
       "      <th>Payment Method_Credit card (automatic)</th>\n",
       "      <th>Payment Method_Electronic check</th>\n",
       "      <th>Payment Method_Mailed check</th>\n",
       "    </tr>\n",
       "  </thead>\n",
       "  <tbody>\n",
       "    <tr>\n",
       "      <th>0</th>\n",
       "      <td>0</td>\n",
       "      <td>1</td>\n",
       "      <td>20.30</td>\n",
       "      <td>20.30</td>\n",
       "      <td>0</td>\n",
       "      <td>1</td>\n",
       "      <td>1</td>\n",
       "      <td>0</td>\n",
       "      <td>1</td>\n",
       "      <td>0</td>\n",
       "      <td>...</td>\n",
       "      <td>0</td>\n",
       "      <td>1</td>\n",
       "      <td>0</td>\n",
       "      <td>0</td>\n",
       "      <td>1</td>\n",
       "      <td>0</td>\n",
       "      <td>0</td>\n",
       "      <td>0</td>\n",
       "      <td>0</td>\n",
       "      <td>1</td>\n",
       "    </tr>\n",
       "    <tr>\n",
       "      <th>1</th>\n",
       "      <td>0</td>\n",
       "      <td>21</td>\n",
       "      <td>35.10</td>\n",
       "      <td>770.40</td>\n",
       "      <td>1</td>\n",
       "      <td>0</td>\n",
       "      <td>1</td>\n",
       "      <td>0</td>\n",
       "      <td>1</td>\n",
       "      <td>0</td>\n",
       "      <td>...</td>\n",
       "      <td>0</td>\n",
       "      <td>0</td>\n",
       "      <td>0</td>\n",
       "      <td>1</td>\n",
       "      <td>1</td>\n",
       "      <td>0</td>\n",
       "      <td>0</td>\n",
       "      <td>0</td>\n",
       "      <td>0</td>\n",
       "      <td>1</td>\n",
       "    </tr>\n",
       "    <tr>\n",
       "      <th>2</th>\n",
       "      <td>0</td>\n",
       "      <td>67</td>\n",
       "      <td>105.70</td>\n",
       "      <td>6816.95</td>\n",
       "      <td>1</td>\n",
       "      <td>0</td>\n",
       "      <td>0</td>\n",
       "      <td>1</td>\n",
       "      <td>1</td>\n",
       "      <td>0</td>\n",
       "      <td>...</td>\n",
       "      <td>1</td>\n",
       "      <td>0</td>\n",
       "      <td>1</td>\n",
       "      <td>0</td>\n",
       "      <td>0</td>\n",
       "      <td>1</td>\n",
       "      <td>1</td>\n",
       "      <td>0</td>\n",
       "      <td>0</td>\n",
       "      <td>0</td>\n",
       "    </tr>\n",
       "    <tr>\n",
       "      <th>3</th>\n",
       "      <td>0</td>\n",
       "      <td>44</td>\n",
       "      <td>56.25</td>\n",
       "      <td>2419.55</td>\n",
       "      <td>1</td>\n",
       "      <td>0</td>\n",
       "      <td>0</td>\n",
       "      <td>1</td>\n",
       "      <td>0</td>\n",
       "      <td>1</td>\n",
       "      <td>...</td>\n",
       "      <td>0</td>\n",
       "      <td>1</td>\n",
       "      <td>0</td>\n",
       "      <td>0</td>\n",
       "      <td>1</td>\n",
       "      <td>0</td>\n",
       "      <td>1</td>\n",
       "      <td>0</td>\n",
       "      <td>0</td>\n",
       "      <td>0</td>\n",
       "    </tr>\n",
       "    <tr>\n",
       "      <th>4</th>\n",
       "      <td>0</td>\n",
       "      <td>70</td>\n",
       "      <td>60.35</td>\n",
       "      <td>4138.70</td>\n",
       "      <td>0</td>\n",
       "      <td>1</td>\n",
       "      <td>0</td>\n",
       "      <td>1</td>\n",
       "      <td>0</td>\n",
       "      <td>1</td>\n",
       "      <td>...</td>\n",
       "      <td>1</td>\n",
       "      <td>0</td>\n",
       "      <td>1</td>\n",
       "      <td>0</td>\n",
       "      <td>1</td>\n",
       "      <td>0</td>\n",
       "      <td>0</td>\n",
       "      <td>0</td>\n",
       "      <td>1</td>\n",
       "      <td>0</td>\n",
       "    </tr>\n",
       "  </tbody>\n",
       "</table>\n",
       "<p>5 rows × 45 columns</p>\n",
       "</div>"
      ],
      "text/plain": [
       "   Senior Citizen  Tenure  Monthly Charges  Total Charges  Gender_Female  \\\n",
       "0               0       1            20.30          20.30              0   \n",
       "1               0      21            35.10         770.40              1   \n",
       "2               0      67           105.70        6816.95              1   \n",
       "3               0      44            56.25        2419.55              1   \n",
       "4               0      70            60.35        4138.70              0   \n",
       "\n",
       "   Gender_Male  Partner_No  Partner_Yes  Dependents_No  Dependents_Yes  ...  \\\n",
       "0            1           1            0              1               0  ...   \n",
       "1            0           1            0              1               0  ...   \n",
       "2            0           0            1              1               0  ...   \n",
       "3            0           0            1              0               1  ...   \n",
       "4            1           0            1              0               1  ...   \n",
       "\n",
       "   Streaming Movies_Yes  Contract_Month-to-month  Contract_One year  \\\n",
       "0                     0                        1                  0   \n",
       "1                     0                        0                  0   \n",
       "2                     1                        0                  1   \n",
       "3                     0                        1                  0   \n",
       "4                     1                        0                  1   \n",
       "\n",
       "   Contract_Two year  Paperless Billing_No  Paperless Billing_Yes  \\\n",
       "0                  0                     1                      0   \n",
       "1                  1                     1                      0   \n",
       "2                  0                     0                      1   \n",
       "3                  0                     1                      0   \n",
       "4                  0                     1                      0   \n",
       "\n",
       "   Payment Method_Bank transfer (automatic)  \\\n",
       "0                                         0   \n",
       "1                                         0   \n",
       "2                                         1   \n",
       "3                                         1   \n",
       "4                                         0   \n",
       "\n",
       "   Payment Method_Credit card (automatic)  Payment Method_Electronic check  \\\n",
       "0                                       0                                0   \n",
       "1                                       0                                0   \n",
       "2                                       0                                0   \n",
       "3                                       0                                0   \n",
       "4                                       0                                1   \n",
       "\n",
       "   Payment Method_Mailed check  \n",
       "0                            1  \n",
       "1                            1  \n",
       "2                            0  \n",
       "3                            0  \n",
       "4                            0  \n",
       "\n",
       "[5 rows x 45 columns]"
      ]
     },
     "execution_count": 82,
     "metadata": {},
     "output_type": "execute_result"
    }
   ],
   "source": [
    "df_production2 = df_production.drop('CustomerID',axis=1)\n",
    "#convert categorical values into numerical by creating dummies\n",
    "df_dummies_prod = pd.get_dummies(df_production2)\n",
    "df_dummies_prod.head()"
   ]
  },
  {
   "cell_type": "code",
   "execution_count": 83,
   "id": "17ac7bf3",
   "metadata": {},
   "outputs": [],
   "source": [
    "# Scale using MinMaxScalar\n",
    "#Scaling using MinMaxScalar\n",
    "scaled = MinMaxScaler(feature_range=(0,1))\n",
    "X_prod_scaled = scaled.fit_transform(df_dummies_prod)"
   ]
  },
  {
   "cell_type": "code",
   "execution_count": 84,
   "id": "71cd9907",
   "metadata": {},
   "outputs": [
    {
     "data": {
      "text/plain": [
       "array([0, 0, 0, 0, 0, 1, 0, 1, 0, 0, 1, 0, 0, 0, 0, 0, 0, 1, 1, 1, 0, 1,\n",
       "       0, 0, 0, 0, 0, 0, 0, 0, 1, 0, 0, 0, 0, 0, 0, 1, 0, 1, 0, 0, 0, 1,\n",
       "       0, 1, 0, 0, 0, 0, 1, 0, 0, 1, 0, 1, 0, 0, 0, 0, 0, 0, 1, 1, 0, 0,\n",
       "       0, 0, 1, 0, 0, 0, 0, 0, 0, 1, 0, 0, 0, 0, 0, 0, 0, 0, 0, 0, 0, 0,\n",
       "       0, 0, 0, 1, 0, 0, 0, 0, 0, 0, 0, 0, 1, 0, 0, 0, 0, 0, 0, 1, 1, 0,\n",
       "       1, 1, 0, 1, 0, 0, 0, 1, 0, 0, 0, 1, 0, 0, 1, 0, 1, 1, 0, 1, 0, 1,\n",
       "       0, 0, 1, 1, 0, 0, 0, 0, 0, 0, 0, 0, 1, 0, 0, 0, 0, 0, 0, 0, 0, 0,\n",
       "       0, 1, 0, 0, 0, 1, 0, 1, 0, 0, 1, 0, 0, 0, 1, 1, 1, 0, 0, 0, 0, 0,\n",
       "       0, 0, 0, 0, 0, 1, 0, 0, 0, 0, 0, 1, 0, 0, 0, 0, 0, 0, 0, 0, 1, 0,\n",
       "       0, 0, 0, 0, 1, 1, 0, 0, 1, 0, 1, 0, 0, 1, 1, 0, 1, 1, 1, 1, 0, 0,\n",
       "       0, 0, 0, 0, 0, 0, 0, 1, 0, 0, 0, 0, 0, 0, 0, 0, 0, 0, 0, 0, 1, 1,\n",
       "       0, 0, 0, 0, 0, 0, 1, 0, 0, 0, 0, 0, 0, 1, 0, 0, 0, 1, 1, 0, 0, 1,\n",
       "       0, 0, 0, 0, 0, 1, 0, 0, 0, 0, 0, 0, 0, 0, 0, 0, 0, 0, 0, 0, 0, 0,\n",
       "       0, 0, 1, 0, 0, 0, 0, 0, 0, 0, 0, 0, 0, 0, 0, 1, 0, 0, 0, 0, 0, 0,\n",
       "       0, 0, 1, 0, 0, 0, 0, 1, 0, 0, 1, 0, 0, 0, 0, 0, 1, 0, 0, 0, 0, 0,\n",
       "       1, 0, 1, 0, 0, 1, 1, 1, 1, 1, 0, 0, 0, 0, 1, 1, 0, 0, 0, 0, 0, 0,\n",
       "       0, 0, 0, 0, 0, 1, 0, 0, 0, 1, 0, 0, 0, 1, 0, 1, 0, 0, 0, 0, 0, 0,\n",
       "       0, 0, 1, 1, 1, 0, 0, 0, 0, 1, 0, 1, 0, 1, 1, 0, 1, 0, 0, 1, 0, 0,\n",
       "       0, 1, 0, 0, 0, 0, 0, 0, 0, 0, 0, 0, 0, 0, 0, 1, 0, 1, 0, 0, 0, 0,\n",
       "       0, 0, 0, 0, 0, 1, 0, 0, 0, 0, 0, 1, 0, 0, 1, 0, 0, 1, 0, 0, 0, 0,\n",
       "       0, 0, 0, 0, 0, 0, 0, 0, 0, 1, 0, 0, 1, 0, 1, 0, 0, 0, 0, 0, 0, 1,\n",
       "       1, 0, 0, 0, 1, 0, 0, 1, 1, 0, 0, 0, 0, 0, 0, 0, 0, 0, 0, 0, 0, 0,\n",
       "       0, 0, 0, 0, 0, 0, 1, 0, 1, 0, 0, 0, 1, 0, 1, 0, 0, 0, 0, 1, 0, 0,\n",
       "       0, 0, 0, 1, 0, 0, 0, 0, 0, 0, 0, 1, 0, 0, 0, 0, 0, 0, 0, 0, 0, 0,\n",
       "       1, 0, 1, 1, 0, 0, 0, 0, 0, 0, 0, 0, 1, 0], dtype=int64)"
      ]
     },
     "execution_count": 84,
     "metadata": {},
     "output_type": "execute_result"
    }
   ],
   "source": [
    "y_pred = model_XGB.predict(X_prod_scaled)\n",
    "y_pred"
   ]
  },
  {
   "cell_type": "code",
   "execution_count": 85,
   "id": "bfba3d81",
   "metadata": {},
   "outputs": [],
   "source": [
    "import pickle"
   ]
  },
  {
   "cell_type": "code",
   "execution_count": 86,
   "id": "0c9913e2",
   "metadata": {},
   "outputs": [],
   "source": [
    "#saving model in storage\n",
    "pickle.dump(model_RF,open('model_RF.pkl','wb'))"
   ]
  },
  {
   "cell_type": "code",
   "execution_count": 87,
   "id": "d9f45bca",
   "metadata": {},
   "outputs": [
    {
     "name": "stdout",
     "output_type": "stream",
     "text": [
      "[0 0 1 1 0 0 0 0 0 0 0 1 0 0 0 1 0 0 0 0 0 0 0 0 0 0 1 0 0 0]\n"
     ]
    }
   ],
   "source": [
    "# loading model to compare predicted values\n",
    "model_RF = pickle.load(open('model_RF.pkl','rb'))\n",
    "print(model_RF.predict(X_test)[:30])"
   ]
  },
  {
   "cell_type": "code",
   "execution_count": null,
   "id": "2c312b1a",
   "metadata": {},
   "outputs": [],
   "source": []
  }
 ],
 "metadata": {
  "kernelspec": {
   "display_name": "Python 3 (ipykernel)",
   "language": "python",
   "name": "python3"
  },
  "language_info": {
   "codemirror_mode": {
    "name": "ipython",
    "version": 3
   },
   "file_extension": ".py",
   "mimetype": "text/x-python",
   "name": "python",
   "nbconvert_exporter": "python",
   "pygments_lexer": "ipython3",
   "version": "3.7.0"
  }
 },
 "nbformat": 4,
 "nbformat_minor": 5
}
